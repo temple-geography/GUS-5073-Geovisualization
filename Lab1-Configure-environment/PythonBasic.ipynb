{
 "cells": [
  {
   "cell_type": "markdown",
   "metadata": {},
   "source": [
    "## Python basics\n",
    "\n",
    "This tutorial will shows you the basics of Python programing, the major concepts are variables, data types, flow control, list, loops and function. At end of this tutorial, we will plot a sequence of numbers using Matplotlib."
   ]
  },
  {
   "cell_type": "markdown",
   "metadata": {},
   "source": [
    "#### 1. Variables"
   ]
  },
  {
   "cell_type": "code",
   "execution_count": 1,
   "metadata": {},
   "outputs": [
    {
     "name": "stdout",
     "output_type": "stream",
     "text": [
      "The variable x is: 4.0\n",
      "8.0\n",
      "3\n",
      "5\n",
      "x plus two is: 7\n",
      "x minus ten is: -3\n"
     ]
    }
   ],
   "source": [
    "# We can define variables without having to declare their type. We can name it whatever we want.\n",
    "x = 4.0\n",
    "print ('The variable x is:', x)\n",
    "print (x*2) # you can change the value of x as often as you want.\n",
    "x = 3\n",
    "print (x)\n",
    "x = x+2\n",
    "print (x)\n",
    "# the following retrieves the value stored in x, adds 2 to it, and stores the result in x.\n",
    "x+=2\n",
    "print ('x plus two is:', x)\n",
    "x-=10\n",
    "print ('x minus ten is:', x)"
   ]
  },
  {
   "cell_type": "code",
   "execution_count": null,
   "metadata": {},
   "outputs": [],
   "source": []
  },
  {
   "cell_type": "markdown",
   "metadata": {},
   "source": [
    "#### 2. Data type\n",
    "\n",
    "Data type could be Integer, Boolean, String, List, Array, ... The List is one of the most widely used data structure in Python. \n",
    "\n",
    "\n",
    "Booleans are abinary datatypes. they have 2 values: `True` and `False` (or 1 and 0). Booleans are useful when testing for truth value; we can test them in an if or while condition or as an operand of Boolean operations.\n"
   ]
  },
  {
   "cell_type": "code",
   "execution_count": 2,
   "metadata": {},
   "outputs": [
    {
     "name": "stdout",
     "output_type": "stream",
     "text": [
      "The list is: [1, 2, 3, 6, 20]\n"
     ]
    }
   ],
   "source": [
    "i = 10 #Integer\n",
    "\n",
    "b = False # Bloolean, True\n",
    "lst = [1, 2, 3, 6] #list\n",
    "\n",
    "# add new content to the list\n",
    "lst.append(20)\n",
    "print('The list is:', lst)\n"
   ]
  },
  {
   "cell_type": "code",
   "execution_count": null,
   "metadata": {},
   "outputs": [],
   "source": []
  },
  {
   "cell_type": "markdown",
   "metadata": {},
   "source": [
    "We can check the data type by using `type`"
   ]
  },
  {
   "cell_type": "code",
   "execution_count": 3,
   "metadata": {},
   "outputs": [
    {
     "name": "stdout",
     "output_type": "stream",
     "text": [
      "The type of i is: <class 'int'>\n",
      "The type of b is: <class 'bool'>\n",
      "The type of lst is: <class 'list'>\n"
     ]
    }
   ],
   "source": [
    "print('The type of i is:', type(i))\n",
    "print('The type of b is:', type(b))\n",
    "print('The type of lst is:', type(lst))"
   ]
  },
  {
   "cell_type": "code",
   "execution_count": null,
   "metadata": {},
   "outputs": [],
   "source": []
  },
  {
   "cell_type": "markdown",
   "metadata": {},
   "source": [
    "#### 2. Flow Control\n",
    "\n",
    "Python is an imperative programming language. In computer science, imperative programming is a programming paradigm that uses statements that change a program's state. The different states are executed based on a number of rules. We can control the flow of the program through a number of structures. In python there are three main categories of program control flow:"
   ]
  },
  {
   "cell_type": "code",
   "execution_count": 4,
   "metadata": {},
   "outputs": [
    {
     "name": "stdout",
     "output_type": "stream",
     "text": [
      "Flag is True.\n",
      "1\n",
      "B\n"
     ]
    }
   ],
   "source": [
    "flag = True\n",
    "x = 0\n",
    "if flag:\n",
    "    x = 1\n",
    "    print (\"Flag is True.\")\n",
    "else:\n",
    "    x = 2\n",
    "    print (\"Flag is False.\")\n",
    "\n",
    "print (x)\n",
    "# We can check for other cases as well. Controlling the execution of code\n",
    "# like this is referred to as \"flow of control\".\n",
    "if x ==0:\n",
    "    print (\"A\")\n",
    "elif x == 1:\n",
    "    print (\"B\")\n",
    "else:\n",
    "    print (\"C\")\n"
   ]
  },
  {
   "cell_type": "code",
   "execution_count": null,
   "metadata": {},
   "outputs": [],
   "source": []
  },
  {
   "cell_type": "markdown",
   "metadata": {},
   "source": [
    "### 3. List\n",
    "\n",
    "Lists are a data structure designed for easy storage and access to data. they are initialized by using \"[]\" to enclose a comma separated sequence of values. These values can be anything. Lists can contain the same type of values or a heterogeneous mix of values. We can access individual elements of a list, a subset of elements, or the whole list. Lists are mutable: we can modify their elements.\n",
    "\n",
    "Python deals with multiple data structures in a similar manner. For example, lists, dictionaries, files, and iterators work similarly."
   ]
  },
  {
   "cell_type": "code",
   "execution_count": 5,
   "metadata": {},
   "outputs": [],
   "source": [
    "test_list1 = [] # create an emputy list\n",
    "test_list2 = ['1', '2', '5'] # create list with elements"
   ]
  },
  {
   "cell_type": "markdown",
   "metadata": {},
   "source": [
    "Add new element to the list"
   ]
  },
  {
   "cell_type": "code",
   "execution_count": 6,
   "metadata": {},
   "outputs": [
    {
     "name": "stdout",
     "output_type": "stream",
     "text": [
      "['Tom']\n"
     ]
    }
   ],
   "source": [
    "test_list1.append('Tom')\n",
    "print(test_list1)"
   ]
  },
  {
   "cell_type": "code",
   "execution_count": null,
   "metadata": {},
   "outputs": [],
   "source": []
  },
  {
   "cell_type": "markdown",
   "metadata": {},
   "source": [
    "You can add different data types to a list"
   ]
  },
  {
   "cell_type": "code",
   "execution_count": 7,
   "metadata": {},
   "outputs": [
    {
     "data": {
      "text/plain": [
       "['Tom', 10, ['1', '2']]"
      ]
     },
     "execution_count": 7,
     "metadata": {},
     "output_type": "execute_result"
    }
   ],
   "source": [
    "test_list1.append(10) #add number\n",
    "test_list1.append(['1', '2']) # add a list to the list\n",
    "test_list1"
   ]
  },
  {
   "cell_type": "code",
   "execution_count": null,
   "metadata": {},
   "outputs": [],
   "source": []
  },
  {
   "cell_type": "markdown",
   "metadata": {},
   "source": [
    "Concatenate two lists"
   ]
  },
  {
   "cell_type": "code",
   "execution_count": 8,
   "metadata": {},
   "outputs": [
    {
     "name": "stdout",
     "output_type": "stream",
     "text": [
      "['Tom', 10, ['1', '2'], '1', '2', '5']\n"
     ]
    }
   ],
   "source": [
    "comboList = test_list1 + test_list2\n",
    "print(comboList)"
   ]
  },
  {
   "cell_type": "code",
   "execution_count": null,
   "metadata": {},
   "outputs": [],
   "source": []
  },
  {
   "cell_type": "code",
   "execution_count": 9,
   "metadata": {},
   "outputs": [
    {
     "name": "stdout",
     "output_type": "stream",
     "text": [
      "The first item is: Tom\n",
      "The second item is: 10\n",
      "The last item is: 5\n",
      "The last two items are: ['2', '5']\n"
     ]
    }
   ],
   "source": [
    "# get the first item\n",
    "firstItem = comboList[0]\n",
    "secondItem = comboList[1]\n",
    "\n",
    "# # We can access from the ends of lists as well.\n",
    "# get the last item\n",
    "lastItem = comboList[-1]\n",
    "# the last two items\n",
    "lastTwoItem = comboList[-2:]\n",
    "\n",
    "print('The first item is:', firstItem)\n",
    "print ('The second item is:', secondItem)\n",
    "print('The last item is:', lastItem)\n",
    "print('The last two items are:', lastTwoItem)\n"
   ]
  },
  {
   "cell_type": "code",
   "execution_count": 10,
   "metadata": {},
   "outputs": [
    {
     "name": "stdout",
     "output_type": "stream",
     "text": [
      "range(0, 10)\n",
      "range(2, 10)\n",
      "range(4, 10, 2)\n",
      "10\n"
     ]
    }
   ],
   "source": [
    "# There is a useful function for producing sequences of numbers.\n",
    "print (range(10))\n",
    "print (range(2,10))\n",
    "print (range(4,10,2))\n",
    "# The length of a list can be calculated using \"len()\"\n",
    "print (len(range(10)))"
   ]
  },
  {
   "cell_type": "code",
   "execution_count": null,
   "metadata": {},
   "outputs": [],
   "source": []
  },
  {
   "cell_type": "markdown",
   "metadata": {},
   "source": [
    "### Loops\n",
    "\n",
    "Loops allow us to automate repetitive tasks. The repeated execution of a set of statements is called iteration. There are a number of ways to iterate in Python - we can use `for` loops or `while` loops. the syntax is like the syntax of if-statements. the `for` loop loops over each of the elements of a list or iterator, assignming the current element to the variable name given. A `while` loops repeats a sequence of statements until some condition becomes false."
   ]
  },
  {
   "cell_type": "markdown",
   "metadata": {},
   "source": [
    "`for` loop"
   ]
  },
  {
   "cell_type": "code",
   "execution_count": 11,
   "metadata": {},
   "outputs": [
    {
     "name": "stdout",
     "output_type": "stream",
     "text": [
      "range(0, 10)\n",
      "0\n",
      "1\n",
      "2\n",
      "3\n",
      "4\n",
      "5\n",
      "6\n",
      "7\n",
      "8\n",
      "9\n",
      "0\n",
      "2\n",
      "4\n",
      "6\n",
      "8\n",
      "10\n",
      "12\n",
      "14\n",
      "16\n",
      "18\n"
     ]
    }
   ],
   "source": [
    "X = range(10)\n",
    "print (X)\n",
    "for x in X:\n",
    "    print (x)\n",
    "    \n",
    "for i in range(len(X)):\n",
    "    # doubles the list element\n",
    "    print(X[i]*2)\n",
    "    "
   ]
  },
  {
   "cell_type": "markdown",
   "metadata": {},
   "source": [
    "\n",
    "We can control the execution of a loop through different statements. Python inclues statements to exit a loop prematurely. To exit a loop, use the break statement. The loop below is a for loop."
   ]
  },
  {
   "cell_type": "code",
   "execution_count": 12,
   "metadata": {},
   "outputs": [
    {
     "name": "stdout",
     "output_type": "stream",
     "text": [
      "0\n",
      "1\n",
      "2\n",
      "3\n",
      "4\n",
      "5\n",
      "6\n"
     ]
    }
   ],
   "source": [
    "for i in range(100):\n",
    "    print (i)\n",
    "    if (i > 5):\n",
    "        break\n",
    "    "
   ]
  },
  {
   "cell_type": "code",
   "execution_count": null,
   "metadata": {},
   "outputs": [],
   "source": []
  },
  {
   "cell_type": "markdown",
   "metadata": {},
   "source": [
    "`while` loop"
   ]
  },
  {
   "cell_type": "code",
   "execution_count": 13,
   "metadata": {},
   "outputs": [
    {
     "name": "stdout",
     "output_type": "stream",
     "text": [
      "0\n",
      "1\n",
      "2\n",
      "3\n",
      "4\n"
     ]
    }
   ],
   "source": [
    "i=0\n",
    "while i < 10:\n",
    "    print (i)\n",
    "    i=i+1\n",
    "    if i < 5:\n",
    "        continue\n",
    "    else:\n",
    "        break\n",
    "    "
   ]
  },
  {
   "cell_type": "markdown",
   "metadata": {},
   "source": [
    "### Functions\n",
    "\n",
    "Functions allow a programmer to write reusable code to perform a single action. Functions provide better modulatrity for your application and a high degree of code-reusing. Once a function is defined, it can be called by typing the name of the function and passing the arguments. For example, Python gives you many built-in functions like print(). Functions can just perform an operation, or they can return values.\n",
    "\n",
    "Functions are defined using the key word def."
   ]
  },
  {
   "cell_type": "code",
   "execution_count": 14,
   "metadata": {},
   "outputs": [
    {
     "name": "stdout",
     "output_type": "stream",
     "text": [
      "[-5, 8, 29, 58, 95, 140, 193, 254, 323, 400]\n"
     ]
    }
   ],
   "source": [
    "def y_fun(x):\n",
    "    y = 4*x*x + x - 10\n",
    "    return y\n",
    "\n",
    "x = [1, 2, 3, 4, 5, 6, 7, 8, 9, 10]\n",
    "y_list = []\n",
    "\n",
    "for i in x:\n",
    "    y = y_fun(i)\n",
    "    y_list.append(y)\n",
    "    \n",
    "print(y_list)\n"
   ]
  },
  {
   "cell_type": "code",
   "execution_count": null,
   "metadata": {},
   "outputs": [],
   "source": []
  },
  {
   "cell_type": "markdown",
   "metadata": {},
   "source": [
    "### Python Libraries:\n",
    "Python is a dynamically typed language. A language has dynamic typing when variable types are not predefined like in a compiled language; the type of a value is evaluated when the code is run, based on how you are attempting to use it.\n",
    "\n",
    "Dynamic typing and a number of other language-specific characteristics, like readability and reusability, make Python a very popular programming language with a large user community. However, Python on its own only provides a basic number of modules and functionality. In order to extend Python's functionality, the active community has created a very large number of libraries. A library is a built-in or external module that can be imported into our current code to add functionality. Libraries usually take advantage of Object-Oriented-Programming, defining Python objects in addtional scripts that can then be instantiated in our current code.\n",
    "\n",
    "Loading libraries into our current context can be expensive; for that reason, Python requires us to explicitly load the libraries that we want to use. Type the following code into the first cell, and hit CTRL+Enter to run the code:"
   ]
  },
  {
   "cell_type": "code",
   "execution_count": 15,
   "metadata": {},
   "outputs": [
    {
     "name": "stdout",
     "output_type": "stream",
     "text": [
      "[ 1  2  4 10 14 16]\n"
     ]
    }
   ],
   "source": [
    "import numpy as np\n",
    "\n",
    "a = np.array([1, 2, 4, 10, 14, 16])\n",
    "print(a)"
   ]
  },
  {
   "cell_type": "code",
   "execution_count": null,
   "metadata": {},
   "outputs": [],
   "source": []
  },
  {
   "cell_type": "code",
   "execution_count": 16,
   "metadata": {},
   "outputs": [
    {
     "data": {
      "image/png": "[encoded data removed]",
      "text/plain": [
       "<Figure size 432x288 with 1 Axes>"
      ]
     },
     "metadata": {
      "needs_background": "light"
     },
     "output_type": "display_data"
    }
   ],
   "source": [
    "from matplotlib import pyplot as plt\n",
    "\n",
    "plt.plot(a)\n",
    "plt.show()"
   ]
  },
  {
   "cell_type": "code",
   "execution_count": null,
   "metadata": {},
   "outputs": [],
   "source": []
  },
  {
   "cell_type": "code",
   "execution_count": 17,
   "metadata": {},
   "outputs": [
    {
     "data": {
      "image/png": "[encoded data removed]",
      "text/plain": [
       "<Figure size 432x288 with 1 Axes>"
      ]
     },
     "metadata": {
      "needs_background": "light"
     },
     "output_type": "display_data"
    }
   ],
   "source": [
    "lst = [1, 2, 4, 10, 14, 16]\n",
    "plt.plot(lst)\n",
    "plt.show()\n"
   ]
  },
  {
   "cell_type": "code",
   "execution_count": null,
   "metadata": {},
   "outputs": [],
   "source": []
  },
  {
   "cell_type": "markdown",
   "metadata": {},
   "source": [
    "### Excercise\n",
    "Write a function of y = 4x^2 + x -10\n",
    "\n",
    "plot the diagram of the function, \n",
    "\n",
    "using x ranges from 1 to 10\n",
    "\n"
   ]
  },
  {
   "cell_type": "code",
   "execution_count": 18,
   "metadata": {},
   "outputs": [
    {
     "name": "stdout",
     "output_type": "stream",
     "text": [
      "[-10, -5, 8, 29, 58, 95, 140, 193, 254, 323]\n"
     ]
    },
    {
     "data": {
      "image/png": "[encoded data removed]",
      "text/plain": [
       "<Figure size 432x288 with 1 Axes>"
      ]
     },
     "metadata": {
      "needs_background": "light"
     },
     "output_type": "display_data"
    }
   ],
   "source": [
    "from matplotlib import pyplot as plt\n",
    "\n",
    "def y_fun(x):\n",
    "    y = 4*x*x + x - 10\n",
    "    return y\n",
    "\n",
    "# x = [1, 2, 3, 4, 5, 6, 7, 8, 9, 10]\n",
    "# easier way to create sequence\n",
    "x = np.array(range(10))\n",
    "\n",
    "y_list = []\n",
    "\n",
    "for i in x:\n",
    "    y = y_fun(i)\n",
    "    y_list.append(y)\n",
    "    \n",
    "print(y_list)\n",
    "plt.plot(x, y_list)\n",
    "plt.show()\n"
   ]
  },
  {
   "cell_type": "code",
   "execution_count": null,
   "metadata": {},
   "outputs": [],
   "source": []
  },
  {
   "cell_type": "code",
   "execution_count": 19,
   "metadata": {},
   "outputs": [],
   "source": [
    "import geopandas as gpd\n",
    "\n",
    "accident = gpd.read_file(\"data/crash_data_collision_crash_2007_2017.shp\")\n"
   ]
  },
  {
   "cell_type": "code",
   "execution_count": null,
   "metadata": {},
   "outputs": [],
   "source": []
  },
  {
   "cell_type": "markdown",
   "metadata": {},
   "source": [
    "Print the first five rows of the accident data frame"
   ]
  },
  {
   "cell_type": "code",
   "execution_count": 20,
   "metadata": {},
   "outputs": [
    {
     "data": {
      "text/html": [
       "<div>\n",
       "<style scoped>\n",
       "    .dataframe tbody tr th:only-of-type {\n",
       "        vertical-align: middle;\n",
       "    }\n",
       "\n",
       "    .dataframe tbody tr th {\n",
       "        vertical-align: top;\n",
       "    }\n",
       "\n",
       "    .dataframe thead th {\n",
       "        text-align: right;\n",
       "    }\n",
       "</style>\n",
       "<table border=\"1\" class=\"dataframe\">\n",
       "  <thead>\n",
       "    <tr style=\"text-align: right;\">\n",
       "      <th></th>\n",
       "      <th>county_nam</th>\n",
       "      <th>objectid_1</th>\n",
       "      <th>objectid</th>\n",
       "      <th>crn</th>\n",
       "      <th>district</th>\n",
       "      <th>county</th>\n",
       "      <th>municipali</th>\n",
       "      <th>crash_year</th>\n",
       "      <th>crash_mont</th>\n",
       "      <th>day_of_wee</th>\n",
       "      <th>...</th>\n",
       "      <th>ped_count</th>\n",
       "      <th>ped_death_</th>\n",
       "      <th>ped_maj_in</th>\n",
       "      <th>max_severi</th>\n",
       "      <th>comm_veh_c</th>\n",
       "      <th>dec_lat</th>\n",
       "      <th>dec_long</th>\n",
       "      <th>rdwy_surf_</th>\n",
       "      <th>wz_law_off</th>\n",
       "      <th>geometry</th>\n",
       "    </tr>\n",
       "  </thead>\n",
       "  <tbody>\n",
       "    <tr>\n",
       "      <th>0</th>\n",
       "      <td>None</td>\n",
       "      <td>9498</td>\n",
       "      <td>128198</td>\n",
       "      <td>2016019772</td>\n",
       "      <td>6</td>\n",
       "      <td>67</td>\n",
       "      <td>67301</td>\n",
       "      <td>2016</td>\n",
       "      <td>2</td>\n",
       "      <td>2</td>\n",
       "      <td>...</td>\n",
       "      <td>1</td>\n",
       "      <td>0</td>\n",
       "      <td>0</td>\n",
       "      <td>3</td>\n",
       "      <td>0</td>\n",
       "      <td>40.0628</td>\n",
       "      <td>-75.0577</td>\n",
       "      <td>None</td>\n",
       "      <td>None</td>\n",
       "      <td>POINT (-75.05770 40.06280)</td>\n",
       "    </tr>\n",
       "    <tr>\n",
       "      <th>1</th>\n",
       "      <td>None</td>\n",
       "      <td>9570</td>\n",
       "      <td>128432</td>\n",
       "      <td>2016013724</td>\n",
       "      <td>6</td>\n",
       "      <td>67</td>\n",
       "      <td>67301</td>\n",
       "      <td>2016</td>\n",
       "      <td>1</td>\n",
       "      <td>3</td>\n",
       "      <td>...</td>\n",
       "      <td>0</td>\n",
       "      <td>0</td>\n",
       "      <td>0</td>\n",
       "      <td>3</td>\n",
       "      <td>0</td>\n",
       "      <td>40.0822</td>\n",
       "      <td>-74.9669</td>\n",
       "      <td>None</td>\n",
       "      <td>None</td>\n",
       "      <td>POINT (-74.96690 40.08220)</td>\n",
       "    </tr>\n",
       "    <tr>\n",
       "      <th>2</th>\n",
       "      <td>None</td>\n",
       "      <td>9642</td>\n",
       "      <td>128688</td>\n",
       "      <td>2016038282</td>\n",
       "      <td>6</td>\n",
       "      <td>67</td>\n",
       "      <td>67301</td>\n",
       "      <td>2016</td>\n",
       "      <td>3</td>\n",
       "      <td>5</td>\n",
       "      <td>...</td>\n",
       "      <td>0</td>\n",
       "      <td>0</td>\n",
       "      <td>0</td>\n",
       "      <td>0</td>\n",
       "      <td>1</td>\n",
       "      <td>39.9751</td>\n",
       "      <td>-75.1946</td>\n",
       "      <td>None</td>\n",
       "      <td>None</td>\n",
       "      <td>POINT (-75.19460 39.97510)</td>\n",
       "    </tr>\n",
       "    <tr>\n",
       "      <th>3</th>\n",
       "      <td>None</td>\n",
       "      <td>9714</td>\n",
       "      <td>128842</td>\n",
       "      <td>2016052220</td>\n",
       "      <td>6</td>\n",
       "      <td>67</td>\n",
       "      <td>67301</td>\n",
       "      <td>2016</td>\n",
       "      <td>2</td>\n",
       "      <td>5</td>\n",
       "      <td>...</td>\n",
       "      <td>0</td>\n",
       "      <td>0</td>\n",
       "      <td>0</td>\n",
       "      <td>8</td>\n",
       "      <td>0</td>\n",
       "      <td>40.0357</td>\n",
       "      <td>-75.2171</td>\n",
       "      <td>None</td>\n",
       "      <td>None</td>\n",
       "      <td>POINT (-75.21710 40.03570)</td>\n",
       "    </tr>\n",
       "    <tr>\n",
       "      <th>4</th>\n",
       "      <td>None</td>\n",
       "      <td>9786</td>\n",
       "      <td>128975</td>\n",
       "      <td>2016087187</td>\n",
       "      <td>6</td>\n",
       "      <td>67</td>\n",
       "      <td>67301</td>\n",
       "      <td>2016</td>\n",
       "      <td>8</td>\n",
       "      <td>6</td>\n",
       "      <td>...</td>\n",
       "      <td>1</td>\n",
       "      <td>0</td>\n",
       "      <td>0</td>\n",
       "      <td>4</td>\n",
       "      <td>0</td>\n",
       "      <td>39.9511</td>\n",
       "      <td>-75.1721</td>\n",
       "      <td>None</td>\n",
       "      <td>None</td>\n",
       "      <td>POINT (-75.17210 39.95110)</td>\n",
       "    </tr>\n",
       "  </tbody>\n",
       "</table>\n",
       "<p>5 rows × 91 columns</p>\n",
       "</div>"
      ],
      "text/plain": [
       "  county_nam  objectid_1  objectid         crn  district  county  municipali  \\\n",
       "0       None        9498    128198  2016019772         6      67       67301   \n",
       "1       None        9570    128432  2016013724         6      67       67301   \n",
       "2       None        9642    128688  2016038282         6      67       67301   \n",
       "3       None        9714    128842  2016052220         6      67       67301   \n",
       "4       None        9786    128975  2016087187         6      67       67301   \n",
       "\n",
       "   crash_year  crash_mont  day_of_wee  ...  ped_count  ped_death_  ped_maj_in  \\\n",
       "0        2016           2           2  ...          1           0           0   \n",
       "1        2016           1           3  ...          0           0           0   \n",
       "2        2016           3           5  ...          0           0           0   \n",
       "3        2016           2           5  ...          0           0           0   \n",
       "4        2016           8           6  ...          1           0           0   \n",
       "\n",
       "   max_severi  comm_veh_c  dec_lat  dec_long rdwy_surf_ wz_law_off  \\\n",
       "0           3           0  40.0628  -75.0577       None       None   \n",
       "1           3           0  40.0822  -74.9669       None       None   \n",
       "2           0           1  39.9751  -75.1946       None       None   \n",
       "3           8           0  40.0357  -75.2171       None       None   \n",
       "4           4           0  39.9511  -75.1721       None       None   \n",
       "\n",
       "                     geometry  \n",
       "0  POINT (-75.05770 40.06280)  \n",
       "1  POINT (-74.96690 40.08220)  \n",
       "2  POINT (-75.19460 39.97510)  \n",
       "3  POINT (-75.21710 40.03570)  \n",
       "4  POINT (-75.17210 39.95110)  \n",
       "\n",
       "[5 rows x 91 columns]"
      ]
     },
     "execution_count": 20,
     "metadata": {},
     "output_type": "execute_result"
    }
   ],
   "source": [
    "accident.head()\n"
   ]
  },
  {
   "cell_type": "code",
   "execution_count": null,
   "metadata": {},
   "outputs": [],
   "source": []
  },
  {
   "cell_type": "markdown",
   "metadata": {},
   "source": [
    "print the columns of the dataframe"
   ]
  },
  {
   "cell_type": "code",
   "execution_count": 21,
   "metadata": {},
   "outputs": [
    {
     "data": {
      "text/plain": [
       "Index(['county_nam', 'objectid_1', 'objectid', 'crn', 'district', 'county',\n",
       "       'municipali', 'crash_year', 'crash_mont', 'day_of_wee', 'time_of_da',\n",
       "       'hour_of_da', 'illuminati', 'weather', 'road_condi', 'collision_',\n",
       "       'relation_t', 'work_zone_', 'work_zon_1', 'work_zon_2', 'intersect_',\n",
       "       'tcd_type', 'location_t', 'urban_rura', 'fatal_coun', 'injury_cou',\n",
       "       'person_cou', 'total_unit', 'sch_bus_in', 'sch_zone_i', 'latitude',\n",
       "       'longitude', 'arrival_tm', 'cons_zone_', 'dispatch_t', 'est_hrs_cl',\n",
       "       'lane_close', 'ln_close_d', 'ntfy_hiwy_', 'spec_juris', 'tcd_func_c',\n",
       "       'tfc_detour', 'workers_pr', 'wz_close_d', 'wz_flagger', 'wz_ln_clos',\n",
       "       'wz_moving', 'wz_other', 'wz_shlder_', 'vehicle_co', 'automobile',\n",
       "       'motorcycle', 'bus_count', 'small_truc', 'heavy_truc', 'suv_count',\n",
       "       'van_count', 'bicycle_co', 'maj_inj_co', 'mod_inj_co', 'min_inj_co',\n",
       "       'tot_inj_co', 'unk_inj_de', 'unk_inj_pe', 'driver_cou', 'driver_c_1',\n",
       "       'driver_c_2', 'driver_c_3', 'driver_c_4', 'driver_c_5', 'driver_c_6',\n",
       "       'driver_c_7', 'unbelted_o', 'unb_death_', 'unb_maj_in', 'belted_dea',\n",
       "       'belted_maj', 'mcycle_dea', 'mcycle_maj', 'bicycle_de', 'bicycle_ma',\n",
       "       'ped_count', 'ped_death_', 'ped_maj_in', 'max_severi', 'comm_veh_c',\n",
       "       'dec_lat', 'dec_long', 'rdwy_surf_', 'wz_law_off', 'geometry'],\n",
       "      dtype='object')"
      ]
     },
     "execution_count": 21,
     "metadata": {},
     "output_type": "execute_result"
    }
   ],
   "source": [
    "accident.columns"
   ]
  },
  {
   "cell_type": "code",
   "execution_count": null,
   "metadata": {},
   "outputs": [],
   "source": []
  },
  {
   "cell_type": "code",
   "execution_count": 22,
   "metadata": {},
   "outputs": [],
   "source": [
    "year_carsh = accident.groupby('crash_year').size()\n",
    "month_crash = accident.groupby('crash_mont').size()\n",
    "# week_crash = accident.groupby('week').size()\n",
    "# hour_crash = accident.groupby('hour').size()"
   ]
  },
  {
   "cell_type": "code",
   "execution_count": 23,
   "metadata": {},
   "outputs": [
    {
     "data": {
      "image/png": "[encoded data removed]",
      "text/plain": [
       "<Figure size 432x288 with 1 Axes>"
      ]
     },
     "metadata": {
      "needs_background": "light"
     },
     "output_type": "display_data"
    }
   ],
   "source": [
    "from matplotlib import pyplot as plt\n",
    "\n",
    "plt.plot(year_carsh)\n",
    "plt.title('The traffic accident from 2011 to 2017')\n",
    "plt.show()\n"
   ]
  },
  {
   "cell_type": "code",
   "execution_count": null,
   "metadata": {},
   "outputs": [],
   "source": []
  },
  {
   "cell_type": "code",
   "execution_count": 24,
   "metadata": {},
   "outputs": [
    {
     "data": {
      "image/png": "[encoded data removed]",
      "text/plain": [
       "<Figure size 432x288 with 1 Axes>"
      ]
     },
     "metadata": {
      "needs_background": "light"
     },
     "output_type": "display_data"
    }
   ],
   "source": [
    "plt.plot(month_crash, 'r-')\n",
    "plt.title('The traffic accident in each month')\n",
    "plt.show()\n"
   ]
  },
  {
   "cell_type": "markdown",
   "metadata": {},
   "source": []
  },
  {
   "cell_type": "code",
   "execution_count": null,
   "metadata": {},
   "outputs": [],
   "source": []
  },
  {
   "cell_type": "code",
   "execution_count": null,
   "metadata": {},
   "outputs": [],
   "source": []
  },
  {
   "cell_type": "markdown",
   "metadata": {},
   "source": [
    "## Excercise\n",
    "\n",
    "- Write a function of y = 20 - 3.14*x^2 + 10*x\n",
    "\n",
    "- Using x ranges from 1 to 100\n",
    "\n",
    "- Plot the diagram of the function, using RED line\n",
    "\n"
   ]
  },
  {
   "cell_type": "code",
   "execution_count": null,
   "metadata": {},
   "outputs": [],
   "source": []
  },
  {
   "cell_type": "code",
   "execution_count": null,
   "metadata": {},
   "outputs": [],
   "source": []
  },
  {
   "cell_type": "code",
   "execution_count": null,
   "metadata": {},
   "outputs": [],
   "source": []
  },
  {
   "cell_type": "markdown",
   "metadata": {},
   "source": [
    "## More readings\n",
    "Pandas tutorial, https://www.learndatasci.com/tutorials/python-pandas-tutorial-complete-introduction-for-beginners/\n",
    "\n",
    "W3C School Python Basics, https://www.w3schools.com/python/"
   ]
  },
  {
   "cell_type": "code",
   "execution_count": null,
   "metadata": {},
   "outputs": [],
   "source": []
  }
 ],
 "metadata": {
  "kernelspec": {
   "display_name": "Python 3",
   "language": "python",
   "name": "python3"
  },
  "language_info": {
   "codemirror_mode": {
    "name": "ipython",
    "version": 3
   },
   "file_extension": ".py",
   "mimetype": "text/x-python",
   "name": "python",
   "nbconvert_exporter": "python",
   "pygments_lexer": "ipython3",
   "version": "3.9.1"
  }
 },
 "nbformat": 4,
 "nbformat_minor": 2
}
