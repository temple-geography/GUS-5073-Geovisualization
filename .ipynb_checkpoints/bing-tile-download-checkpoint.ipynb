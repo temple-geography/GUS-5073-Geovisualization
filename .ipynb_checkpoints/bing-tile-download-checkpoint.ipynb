{
 "cells": [
  {
   "cell_type": "markdown",
   "metadata": {},
   "source": [
    "## This script is used to download the Bing tiles based on the input coordinate"
   ]
  },
  {
   "cell_type": "code",
   "execution_count": 42,
   "metadata": {},
   "outputs": [],
   "source": [
    "# for each feature in osm/baseball directory, get each point and make sure we have the \n",
    "# tile for that point in the tile cache. \n",
    "\n",
    "import requests\n",
    "import os\n",
    "import os.path\n",
    "import csv\n",
    "import QuadKey.quadkey as quadkey\n",
    "import shutil\n",
    "import imagestoosm.config as cfg\n",
    "import imagestoosm.secrets as secrets\n",
    "from random import random\n",
    "from time import sleep\n",
    "\n",
    "\n",
    "# MS doesn't want you hardcoding the URLs to the tile server. This request asks for the Aerial\n",
    "# url template. Replace {quadkey}, and {subdomain}\n",
    "response = requests.get(\"https://dev.virtualearth.net/REST/V1/Imagery/Metadata/Aerial?key=%s\" % (secrets.bingKey))\n",
    "\n",
    "data = response.json()\n",
    "\n",
    "# grabs the data we need from the response.\n",
    "tileUrlTemplate = data['resourceSets'][0]['resources'][0]['imageUrl']\n",
    "imageDomains = data['resourceSets'][0]['resources'][0]['imageUrlSubdomains']\n"
   ]
  },
  {
   "cell_type": "code",
   "execution_count": 43,
   "metadata": {},
   "outputs": [
    {
     "data": {
      "text/plain": [
       "'http://ecn.{subdomain}.tiles.virtualearth.net/tiles/a{quadkey}.jpeg?g=9270'"
      ]
     },
     "execution_count": 43,
     "metadata": {},
     "output_type": "execute_result"
    }
   ],
   "source": [
    "tileUrlTemplate"
   ]
  },
  {
   "cell_type": "code",
   "execution_count": 44,
   "metadata": {},
   "outputs": [
    {
     "data": {
      "text/plain": [
       "['t0', 't1', 't2', 't3']"
      ]
     },
     "execution_count": 44,
     "metadata": {},
     "output_type": "execute_result"
    }
   ],
   "source": [
    "imageDomains"
   ]
  },
  {
   "cell_type": "code",
   "execution_count": null,
   "metadata": {},
   "outputs": [],
   "source": []
  },
  {
   "cell_type": "code",
   "execution_count": 45,
   "metadata": {},
   "outputs": [],
   "source": [
    "import os, os.path\n",
    "\n",
    "root = '/Users/xiaojiang/Dropbox (Personal)/xiaojiang/Research/ParkProximity/data'\n",
    "\n",
    "# tileZoom = 18\n",
    "# rootOsmDir = \"/home/train/data/osm-dl\"\n",
    "# rootTileDir = \"/home/train/data/tiles\"\n",
    "# trainDir = \"/home/train/data/train-images\"\n",
    "# trainImageSize = 512\n",
    "\n",
    "\n",
    "tileZoom = 19\n",
    "rootOsmDir = os.path.join(root, \"osm-dl\")\n",
    "rootTileDir = os.path.join(root, \"tiles\")\n",
    "trainDir = os.path.join(root, \"train-images\")\n",
    "trainImageSize = 512\n"
   ]
  },
  {
   "cell_type": "code",
   "execution_count": 46,
   "metadata": {},
   "outputs": [],
   "source": [
    "if ( os.path.exists(rootTileDir) == False) :\n",
    "    os.mkdir(rootTileDir)\n",
    "\n",
    "bingTilesDir = os.path.join( rootTileDir,\"bing_z\" + str( tileZoom))\n",
    "\n",
    "if ( os.path.exists(bingTilesDir) == False) :\n",
    "    os.mkdir(bingTilesDir)\n"
   ]
  },
  {
   "cell_type": "code",
   "execution_count": null,
   "metadata": {},
   "outputs": [],
   "source": []
  },
  {
   "cell_type": "code",
   "execution_count": 47,
   "metadata": {},
   "outputs": [],
   "source": [
    "if ( os.path.exists(cfg.rootTileDir) == False) :\n",
    "    os.mkdir(cfg.rootTileDir)\n",
    "\n",
    "bingTilesDir = os.path.join( cfg.rootTileDir,\"bing_z\" + str( cfg.tileZoom))\n",
    "\n",
    "if ( os.path.exists(bingTilesDir) == False) :\n",
    "    os.mkdir(bingTilesDir)\n"
   ]
  },
  {
   "cell_type": "code",
   "execution_count": null,
   "metadata": {},
   "outputs": [],
   "source": []
  },
  {
   "cell_type": "code",
   "execution_count": 48,
   "metadata": {},
   "outputs": [],
   "source": [
    "classDir = os.listdir(cfg.rootOsmDir)[1]\n",
    "classDirFull = os.path.join( cfg.rootOsmDir,classDir)"
   ]
  },
  {
   "cell_type": "code",
   "execution_count": 49,
   "metadata": {},
   "outputs": [],
   "source": [
    "fileName = os.listdir(classDirFull)[0]\n",
    "fileName_full = os.path.join( cfg.rootOsmDir,classDir,fileName)"
   ]
  },
  {
   "cell_type": "code",
   "execution_count": 50,
   "metadata": {},
   "outputs": [
    {
     "data": {
      "text/html": [
       "<div>\n",
       "<style scoped>\n",
       "    .dataframe tbody tr th:only-of-type {\n",
       "        vertical-align: middle;\n",
       "    }\n",
       "\n",
       "    .dataframe tbody tr th {\n",
       "        vertical-align: top;\n",
       "    }\n",
       "\n",
       "    .dataframe thead th {\n",
       "        text-align: right;\n",
       "    }\n",
       "</style>\n",
       "<table border=\"1\" class=\"dataframe\">\n",
       "  <thead>\n",
       "    <tr style=\"text-align: right;\">\n",
       "      <th></th>\n",
       "      <th>40.0401024\\t-75.3560430</th>\n",
       "    </tr>\n",
       "  </thead>\n",
       "  <tbody>\n",
       "    <tr>\n",
       "      <th>0</th>\n",
       "      <td>40.0401813\\t-75.3573219</td>\n",
       "    </tr>\n",
       "    <tr>\n",
       "      <th>1</th>\n",
       "      <td>40.0411669\\t-75.3571331</td>\n",
       "    </tr>\n",
       "    <tr>\n",
       "      <th>2</th>\n",
       "      <td>40.0410705\\t-75.3560669</td>\n",
       "    </tr>\n",
       "    <tr>\n",
       "      <th>3</th>\n",
       "      <td>40.0407945\\t-75.3559896</td>\n",
       "    </tr>\n",
       "    <tr>\n",
       "      <th>4</th>\n",
       "      <td>40.0401024\\t-75.3560430</td>\n",
       "    </tr>\n",
       "  </tbody>\n",
       "</table>\n",
       "</div>"
      ],
      "text/plain": [
       "   40.0401024\\t-75.3560430\n",
       "0  40.0401813\\t-75.3573219\n",
       "1  40.0411669\\t-75.3571331\n",
       "2  40.0410705\\t-75.3560669\n",
       "3  40.0407945\\t-75.3559896\n",
       "4  40.0401024\\t-75.3560430"
      ]
     },
     "execution_count": 50,
     "metadata": {},
     "output_type": "execute_result"
    }
   ],
   "source": [
    "import pandas as pd\n",
    "pd.read_csv(fileName_full)"
   ]
  },
  {
   "cell_type": "code",
   "execution_count": null,
   "metadata": {},
   "outputs": [],
   "source": []
  },
  {
   "cell_type": "code",
   "execution_count": 51,
   "metadata": {},
   "outputs": [
    {
     "name": "stdout",
     "output_type": "stream",
     "text": [
      "/Users/xiaojiang/Dropbox (Personal)/xiaojiang/Research/ParkProximity/data/osm-dl/baseball/23039169.csv\n",
      "/Users/xiaojiang/Dropbox (Personal)/xiaojiang/Research/ParkProximity/data/osm-dl/baseball/23039169.csv ['40.0401024', '-75.3560430']\n",
      "40.0401024 -75.3560430\n",
      "sdfas 032010102330100121 /Users/xiaojiang/Dropbox (Personal)/xiaojiang/Research/ParkProximity/data/tiles/bing_z18/121\n",
      "TThe url is: http://ecn.t0.tiles.virtualearth.net/tiles/a032010102330100121.jpeg?g=9270&key=Av7_Q7LSu3RPKCTqa---_VKPu3QQ-NJsOc0IFU4xmubJl4Pb8RVg-7uei9uydRSU\n",
      "sdfas 032010102330100123 /Users/xiaojiang/Dropbox (Personal)/xiaojiang/Research/ParkProximity/data/tiles/bing_z18/123\n",
      "TThe url is: http://ecn.t0.tiles.virtualearth.net/tiles/a032010102330100123.jpeg?g=9270&key=Av7_Q7LSu3RPKCTqa---_VKPu3QQ-NJsOc0IFU4xmubJl4Pb8RVg-7uei9uydRSU\n",
      "sdfas 032010102330100301 /Users/xiaojiang/Dropbox (Personal)/xiaojiang/Research/ParkProximity/data/tiles/bing_z18/301\n",
      "TThe url is: http://ecn.t0.tiles.virtualearth.net/tiles/a032010102330100301.jpeg?g=9270&key=Av7_Q7LSu3RPKCTqa---_VKPu3QQ-NJsOc0IFU4xmubJl4Pb8RVg-7uei9uydRSU\n",
      "sdfas 032010102330100303 /Users/xiaojiang/Dropbox (Personal)/xiaojiang/Research/ParkProximity/data/tiles/bing_z18/303\n",
      "TThe url is: http://ecn.t0.tiles.virtualearth.net/tiles/a032010102330100303.jpeg?g=9270&key=Av7_Q7LSu3RPKCTqa---_VKPu3QQ-NJsOc0IFU4xmubJl4Pb8RVg-7uei9uydRSU\n",
      "sdfas 032010102330100321 /Users/xiaojiang/Dropbox (Personal)/xiaojiang/Research/ParkProximity/data/tiles/bing_z18/321\n",
      "TThe url is: http://ecn.t0.tiles.virtualearth.net/tiles/a032010102330100321.jpeg?g=9270&key=Av7_Q7LSu3RPKCTqa---_VKPu3QQ-NJsOc0IFU4xmubJl4Pb8RVg-7uei9uydRSU\n",
      "sdfas 032010102330100130 /Users/xiaojiang/Dropbox (Personal)/xiaojiang/Research/ParkProximity/data/tiles/bing_z18/130\n",
      "TThe url is: http://ecn.t0.tiles.virtualearth.net/tiles/a032010102330100130.jpeg?g=9270&key=Av7_Q7LSu3RPKCTqa---_VKPu3QQ-NJsOc0IFU4xmubJl4Pb8RVg-7uei9uydRSU\n",
      "sdfas 032010102330100132 /Users/xiaojiang/Dropbox (Personal)/xiaojiang/Research/ParkProximity/data/tiles/bing_z18/132\n",
      "TThe url is: http://ecn.t0.tiles.virtualearth.net/tiles/a032010102330100132.jpeg?g=9270&key=Av7_Q7LSu3RPKCTqa---_VKPu3QQ-NJsOc0IFU4xmubJl4Pb8RVg-7uei9uydRSU\n",
      "sdfas 032010102330100310 /Users/xiaojiang/Dropbox (Personal)/xiaojiang/Research/ParkProximity/data/tiles/bing_z18/310\n",
      "TThe url is: http://ecn.t0.tiles.virtualearth.net/tiles/a032010102330100310.jpeg?g=9270&key=Av7_Q7LSu3RPKCTqa---_VKPu3QQ-NJsOc0IFU4xmubJl4Pb8RVg-7uei9uydRSU\n",
      "sdfas 032010102330100312 /Users/xiaojiang/Dropbox (Personal)/xiaojiang/Research/ParkProximity/data/tiles/bing_z18/312\n",
      "TThe url is: http://ecn.t0.tiles.virtualearth.net/tiles/a032010102330100312.jpeg?g=9270&key=Av7_Q7LSu3RPKCTqa---_VKPu3QQ-NJsOc0IFU4xmubJl4Pb8RVg-7uei9uydRSU\n",
      "sdfas 032010102330100330 /Users/xiaojiang/Dropbox (Personal)/xiaojiang/Research/ParkProximity/data/tiles/bing_z18/330\n",
      "TThe url is: http://ecn.t0.tiles.virtualearth.net/tiles/a032010102330100330.jpeg?g=9270&key=Av7_Q7LSu3RPKCTqa---_VKPu3QQ-NJsOc0IFU4xmubJl4Pb8RVg-7uei9uydRSU\n",
      "sdfas 032010102330100131 /Users/xiaojiang/Dropbox (Personal)/xiaojiang/Research/ParkProximity/data/tiles/bing_z18/131\n",
      "TThe url is: http://ecn.t0.tiles.virtualearth.net/tiles/a032010102330100131.jpeg?g=9270&key=Av7_Q7LSu3RPKCTqa---_VKPu3QQ-NJsOc0IFU4xmubJl4Pb8RVg-7uei9uydRSU\n",
      "sdfas 032010102330100133 /Users/xiaojiang/Dropbox (Personal)/xiaojiang/Research/ParkProximity/data/tiles/bing_z18/133\n",
      "TThe url is: http://ecn.t0.tiles.virtualearth.net/tiles/a032010102330100133.jpeg?g=9270&key=Av7_Q7LSu3RPKCTqa---_VKPu3QQ-NJsOc0IFU4xmubJl4Pb8RVg-7uei9uydRSU\n",
      "sdfas 032010102330100311 /Users/xiaojiang/Dropbox (Personal)/xiaojiang/Research/ParkProximity/data/tiles/bing_z18/311\n",
      "TThe url is: http://ecn.t0.tiles.virtualearth.net/tiles/a032010102330100311.jpeg?g=9270&key=Av7_Q7LSu3RPKCTqa---_VKPu3QQ-NJsOc0IFU4xmubJl4Pb8RVg-7uei9uydRSU\n",
      "sdfas 032010102330100313 /Users/xiaojiang/Dropbox (Personal)/xiaojiang/Research/ParkProximity/data/tiles/bing_z18/313\n",
      "TThe url is: http://ecn.t0.tiles.virtualearth.net/tiles/a032010102330100313.jpeg?g=9270&key=Av7_Q7LSu3RPKCTqa---_VKPu3QQ-NJsOc0IFU4xmubJl4Pb8RVg-7uei9uydRSU\n",
      "sdfas 032010102330100331 /Users/xiaojiang/Dropbox (Personal)/xiaojiang/Research/ParkProximity/data/tiles/bing_z18/331\n",
      "TThe url is: http://ecn.t0.tiles.virtualearth.net/tiles/a032010102330100331.jpeg?g=9270&key=Av7_Q7LSu3RPKCTqa---_VKPu3QQ-NJsOc0IFU4xmubJl4Pb8RVg-7uei9uydRSU\n",
      "sdfas 032010102330101020 /Users/xiaojiang/Dropbox (Personal)/xiaojiang/Research/ParkProximity/data/tiles/bing_z18/020\n",
      "TThe url is: http://ecn.t0.tiles.virtualearth.net/tiles/a032010102330101020.jpeg?g=9270&key=Av7_Q7LSu3RPKCTqa---_VKPu3QQ-NJsOc0IFU4xmubJl4Pb8RVg-7uei9uydRSU\n",
      "sdfas 032010102330101022 /Users/xiaojiang/Dropbox (Personal)/xiaojiang/Research/ParkProximity/data/tiles/bing_z18/022\n",
      "TThe url is: http://ecn.t0.tiles.virtualearth.net/tiles/a032010102330101022.jpeg?g=9270&key=Av7_Q7LSu3RPKCTqa---_VKPu3QQ-NJsOc0IFU4xmubJl4Pb8RVg-7uei9uydRSU\n",
      "sdfas 032010102330101200 /Users/xiaojiang/Dropbox (Personal)/xiaojiang/Research/ParkProximity/data/tiles/bing_z18/200\n",
      "TThe url is: http://ecn.t0.tiles.virtualearth.net/tiles/a032010102330101200.jpeg?g=9270&key=Av7_Q7LSu3RPKCTqa---_VKPu3QQ-NJsOc0IFU4xmubJl4Pb8RVg-7uei9uydRSU\n",
      "sdfas 032010102330101202 /Users/xiaojiang/Dropbox (Personal)/xiaojiang/Research/ParkProximity/data/tiles/bing_z18/202\n",
      "TThe url is: http://ecn.t0.tiles.virtualearth.net/tiles/a032010102330101202.jpeg?g=9270&key=Av7_Q7LSu3RPKCTqa---_VKPu3QQ-NJsOc0IFU4xmubJl4Pb8RVg-7uei9uydRSU\n",
      "sdfas 032010102330101220 /Users/xiaojiang/Dropbox (Personal)/xiaojiang/Research/ParkProximity/data/tiles/bing_z18/220\n",
      "TThe url is: http://ecn.t0.tiles.virtualearth.net/tiles/a032010102330101220.jpeg?g=9270&key=Av7_Q7LSu3RPKCTqa---_VKPu3QQ-NJsOc0IFU4xmubJl4Pb8RVg-7uei9uydRSU\n",
      "sdfas 032010102330101021 /Users/xiaojiang/Dropbox (Personal)/xiaojiang/Research/ParkProximity/data/tiles/bing_z18/021\n",
      "TThe url is: http://ecn.t0.tiles.virtualearth.net/tiles/a032010102330101021.jpeg?g=9270&key=Av7_Q7LSu3RPKCTqa---_VKPu3QQ-NJsOc0IFU4xmubJl4Pb8RVg-7uei9uydRSU\n",
      "sdfas 032010102330101023 /Users/xiaojiang/Dropbox (Personal)/xiaojiang/Research/ParkProximity/data/tiles/bing_z18/023\n",
      "TThe url is: http://ecn.t0.tiles.virtualearth.net/tiles/a032010102330101023.jpeg?g=9270&key=Av7_Q7LSu3RPKCTqa---_VKPu3QQ-NJsOc0IFU4xmubJl4Pb8RVg-7uei9uydRSU\n",
      "sdfas 032010102330101201 /Users/xiaojiang/Dropbox (Personal)/xiaojiang/Research/ParkProximity/data/tiles/bing_z18/201\n",
      "TThe url is: http://ecn.t0.tiles.virtualearth.net/tiles/a032010102330101201.jpeg?g=9270&key=Av7_Q7LSu3RPKCTqa---_VKPu3QQ-NJsOc0IFU4xmubJl4Pb8RVg-7uei9uydRSU\n",
      "sdfas 032010102330101203 /Users/xiaojiang/Dropbox (Personal)/xiaojiang/Research/ParkProximity/data/tiles/bing_z18/203\n",
      "TThe url is: http://ecn.t0.tiles.virtualearth.net/tiles/a032010102330101203.jpeg?g=9270&key=Av7_Q7LSu3RPKCTqa---_VKPu3QQ-NJsOc0IFU4xmubJl4Pb8RVg-7uei9uydRSU\n",
      "sdfas 032010102330101221 /Users/xiaojiang/Dropbox (Personal)/xiaojiang/Research/ParkProximity/data/tiles/bing_z18/221\n",
      "TThe url is: http://ecn.t0.tiles.virtualearth.net/tiles/a032010102330101221.jpeg?g=9270&key=Av7_Q7LSu3RPKCTqa---_VKPu3QQ-NJsOc0IFU4xmubJl4Pb8RVg-7uei9uydRSU\n",
      "['40.0401813', '-75.3573219']\n",
      "40.0401813 -75.3573219\n",
      "sdfas 032010102330100120 /Users/xiaojiang/Dropbox (Personal)/xiaojiang/Research/ParkProximity/data/tiles/bing_z18/120\n",
      "TThe url is: http://ecn.t0.tiles.virtualearth.net/tiles/a032010102330100120.jpeg?g=9270&key=Av7_Q7LSu3RPKCTqa---_VKPu3QQ-NJsOc0IFU4xmubJl4Pb8RVg-7uei9uydRSU\n",
      "sdfas 032010102330100122 /Users/xiaojiang/Dropbox (Personal)/xiaojiang/Research/ParkProximity/data/tiles/bing_z18/122\n",
      "TThe url is: http://ecn.t0.tiles.virtualearth.net/tiles/a032010102330100122.jpeg?g=9270&key=Av7_Q7LSu3RPKCTqa---_VKPu3QQ-NJsOc0IFU4xmubJl4Pb8RVg-7uei9uydRSU\n",
      "sdfas 032010102330100300 /Users/xiaojiang/Dropbox (Personal)/xiaojiang/Research/ParkProximity/data/tiles/bing_z18/300\n",
      "TThe url is: http://ecn.t0.tiles.virtualearth.net/tiles/a032010102330100300.jpeg?g=9270&key=Av7_Q7LSu3RPKCTqa---_VKPu3QQ-NJsOc0IFU4xmubJl4Pb8RVg-7uei9uydRSU\n",
      "sdfas 032010102330100302 /Users/xiaojiang/Dropbox (Personal)/xiaojiang/Research/ParkProximity/data/tiles/bing_z18/302\n",
      "TThe url is: http://ecn.t0.tiles.virtualearth.net/tiles/a032010102330100302.jpeg?g=9270&key=Av7_Q7LSu3RPKCTqa---_VKPu3QQ-NJsOc0IFU4xmubJl4Pb8RVg-7uei9uydRSU\n",
      "sdfas 032010102330100320 /Users/xiaojiang/Dropbox (Personal)/xiaojiang/Research/ParkProximity/data/tiles/bing_z18/320\n",
      "TThe url is: http://ecn.t0.tiles.virtualearth.net/tiles/a032010102330100320.jpeg?g=9270&key=Av7_Q7LSu3RPKCTqa---_VKPu3QQ-NJsOc0IFU4xmubJl4Pb8RVg-7uei9uydRSU\n",
      "sdfas 032010102330100121 /Users/xiaojiang/Dropbox (Personal)/xiaojiang/Research/ParkProximity/data/tiles/bing_z18/121\n",
      "sdfas 032010102330100123 /Users/xiaojiang/Dropbox (Personal)/xiaojiang/Research/ParkProximity/data/tiles/bing_z18/123\n",
      "sdfas 032010102330100301 /Users/xiaojiang/Dropbox (Personal)/xiaojiang/Research/ParkProximity/data/tiles/bing_z18/301\n",
      "sdfas 032010102330100303 /Users/xiaojiang/Dropbox (Personal)/xiaojiang/Research/ParkProximity/data/tiles/bing_z18/303\n",
      "sdfas 032010102330100321 /Users/xiaojiang/Dropbox (Personal)/xiaojiang/Research/ParkProximity/data/tiles/bing_z18/321\n",
      "sdfas 032010102330100130 /Users/xiaojiang/Dropbox (Personal)/xiaojiang/Research/ParkProximity/data/tiles/bing_z18/130\n",
      "sdfas 032010102330100132 /Users/xiaojiang/Dropbox (Personal)/xiaojiang/Research/ParkProximity/data/tiles/bing_z18/132\n",
      "sdfas 032010102330100310 /Users/xiaojiang/Dropbox (Personal)/xiaojiang/Research/ParkProximity/data/tiles/bing_z18/310\n",
      "sdfas 032010102330100312 /Users/xiaojiang/Dropbox (Personal)/xiaojiang/Research/ParkProximity/data/tiles/bing_z18/312\n",
      "sdfas 032010102330100330 /Users/xiaojiang/Dropbox (Personal)/xiaojiang/Research/ParkProximity/data/tiles/bing_z18/330\n",
      "sdfas 032010102330100131 /Users/xiaojiang/Dropbox (Personal)/xiaojiang/Research/ParkProximity/data/tiles/bing_z18/131\n",
      "sdfas 032010102330100133 /Users/xiaojiang/Dropbox (Personal)/xiaojiang/Research/ParkProximity/data/tiles/bing_z18/133\n",
      "sdfas 032010102330100311 /Users/xiaojiang/Dropbox (Personal)/xiaojiang/Research/ParkProximity/data/tiles/bing_z18/311\n",
      "sdfas 032010102330100313 /Users/xiaojiang/Dropbox (Personal)/xiaojiang/Research/ParkProximity/data/tiles/bing_z18/313\n",
      "sdfas 032010102330100331 /Users/xiaojiang/Dropbox (Personal)/xiaojiang/Research/ParkProximity/data/tiles/bing_z18/331\n",
      "sdfas 032010102330101020 /Users/xiaojiang/Dropbox (Personal)/xiaojiang/Research/ParkProximity/data/tiles/bing_z18/020\n",
      "sdfas 032010102330101022 /Users/xiaojiang/Dropbox (Personal)/xiaojiang/Research/ParkProximity/data/tiles/bing_z18/022\n",
      "sdfas 032010102330101200 /Users/xiaojiang/Dropbox (Personal)/xiaojiang/Research/ParkProximity/data/tiles/bing_z18/200\n",
      "sdfas 032010102330101202 /Users/xiaojiang/Dropbox (Personal)/xiaojiang/Research/ParkProximity/data/tiles/bing_z18/202\n",
      "sdfas 032010102330101220 /Users/xiaojiang/Dropbox (Personal)/xiaojiang/Research/ParkProximity/data/tiles/bing_z18/220\n",
      "['40.0411669', '-75.3571331']\n",
      "40.0411669 -75.3571331\n",
      "sdfas 032010102330100102 /Users/xiaojiang/Dropbox (Personal)/xiaojiang/Research/ParkProximity/data/tiles/bing_z18/102\n",
      "TThe url is: http://ecn.t0.tiles.virtualearth.net/tiles/a032010102330100102.jpeg?g=9270&key=Av7_Q7LSu3RPKCTqa---_VKPu3QQ-NJsOc0IFU4xmubJl4Pb8RVg-7uei9uydRSU\n"
     ]
    },
    {
     "name": "stdout",
     "output_type": "stream",
     "text": [
      "sdfas 032010102330100120 /Users/xiaojiang/Dropbox (Personal)/xiaojiang/Research/ParkProximity/data/tiles/bing_z18/120\n",
      "sdfas 032010102330100122 /Users/xiaojiang/Dropbox (Personal)/xiaojiang/Research/ParkProximity/data/tiles/bing_z18/122\n",
      "sdfas 032010102330100300 /Users/xiaojiang/Dropbox (Personal)/xiaojiang/Research/ParkProximity/data/tiles/bing_z18/300\n",
      "sdfas 032010102330100302 /Users/xiaojiang/Dropbox (Personal)/xiaojiang/Research/ParkProximity/data/tiles/bing_z18/302\n",
      "sdfas 032010102330100103 /Users/xiaojiang/Dropbox (Personal)/xiaojiang/Research/ParkProximity/data/tiles/bing_z18/103\n",
      "TThe url is: http://ecn.t0.tiles.virtualearth.net/tiles/a032010102330100103.jpeg?g=9270&key=Av7_Q7LSu3RPKCTqa---_VKPu3QQ-NJsOc0IFU4xmubJl4Pb8RVg-7uei9uydRSU\n",
      "sdfas 032010102330100121 /Users/xiaojiang/Dropbox (Personal)/xiaojiang/Research/ParkProximity/data/tiles/bing_z18/121\n",
      "sdfas 032010102330100123 /Users/xiaojiang/Dropbox (Personal)/xiaojiang/Research/ParkProximity/data/tiles/bing_z18/123\n",
      "sdfas 032010102330100301 /Users/xiaojiang/Dropbox (Personal)/xiaojiang/Research/ParkProximity/data/tiles/bing_z18/301\n",
      "sdfas 032010102330100303 /Users/xiaojiang/Dropbox (Personal)/xiaojiang/Research/ParkProximity/data/tiles/bing_z18/303\n",
      "sdfas 032010102330100112 /Users/xiaojiang/Dropbox (Personal)/xiaojiang/Research/ParkProximity/data/tiles/bing_z18/112\n",
      "TThe url is: http://ecn.t0.tiles.virtualearth.net/tiles/a032010102330100112.jpeg?g=9270&key=Av7_Q7LSu3RPKCTqa---_VKPu3QQ-NJsOc0IFU4xmubJl4Pb8RVg-7uei9uydRSU\n",
      "sdfas 032010102330100130 /Users/xiaojiang/Dropbox (Personal)/xiaojiang/Research/ParkProximity/data/tiles/bing_z18/130\n",
      "sdfas 032010102330100132 /Users/xiaojiang/Dropbox (Personal)/xiaojiang/Research/ParkProximity/data/tiles/bing_z18/132\n",
      "sdfas 032010102330100310 /Users/xiaojiang/Dropbox (Personal)/xiaojiang/Research/ParkProximity/data/tiles/bing_z18/310\n",
      "sdfas 032010102330100312 /Users/xiaojiang/Dropbox (Personal)/xiaojiang/Research/ParkProximity/data/tiles/bing_z18/312\n",
      "sdfas 032010102330100113 /Users/xiaojiang/Dropbox (Personal)/xiaojiang/Research/ParkProximity/data/tiles/bing_z18/113\n",
      "TThe url is: http://ecn.t0.tiles.virtualearth.net/tiles/a032010102330100113.jpeg?g=9270&key=Av7_Q7LSu3RPKCTqa---_VKPu3QQ-NJsOc0IFU4xmubJl4Pb8RVg-7uei9uydRSU\n",
      "sdfas 032010102330100131 /Users/xiaojiang/Dropbox (Personal)/xiaojiang/Research/ParkProximity/data/tiles/bing_z18/131\n",
      "sdfas 032010102330100133 /Users/xiaojiang/Dropbox (Personal)/xiaojiang/Research/ParkProximity/data/tiles/bing_z18/133\n",
      "sdfas 032010102330100311 /Users/xiaojiang/Dropbox (Personal)/xiaojiang/Research/ParkProximity/data/tiles/bing_z18/311\n",
      "sdfas 032010102330100313 /Users/xiaojiang/Dropbox (Personal)/xiaojiang/Research/ParkProximity/data/tiles/bing_z18/313\n",
      "sdfas 032010102330101002 /Users/xiaojiang/Dropbox (Personal)/xiaojiang/Research/ParkProximity/data/tiles/bing_z18/002\n",
      "TThe url is: http://ecn.t0.tiles.virtualearth.net/tiles/a032010102330101002.jpeg?g=9270&key=Av7_Q7LSu3RPKCTqa---_VKPu3QQ-NJsOc0IFU4xmubJl4Pb8RVg-7uei9uydRSU\n",
      "sdfas 032010102330101020 /Users/xiaojiang/Dropbox (Personal)/xiaojiang/Research/ParkProximity/data/tiles/bing_z18/020\n",
      "sdfas 032010102330101022 /Users/xiaojiang/Dropbox (Personal)/xiaojiang/Research/ParkProximity/data/tiles/bing_z18/022\n",
      "sdfas 032010102330101200 /Users/xiaojiang/Dropbox (Personal)/xiaojiang/Research/ParkProximity/data/tiles/bing_z18/200\n",
      "sdfas 032010102330101202 /Users/xiaojiang/Dropbox (Personal)/xiaojiang/Research/ParkProximity/data/tiles/bing_z18/202\n",
      "['40.0410705', '-75.3560669']\n",
      "40.0410705 -75.3560669\n",
      "sdfas 032010102330100103 /Users/xiaojiang/Dropbox (Personal)/xiaojiang/Research/ParkProximity/data/tiles/bing_z18/103\n",
      "sdfas 032010102330100121 /Users/xiaojiang/Dropbox (Personal)/xiaojiang/Research/ParkProximity/data/tiles/bing_z18/121\n",
      "sdfas 032010102330100123 /Users/xiaojiang/Dropbox (Personal)/xiaojiang/Research/ParkProximity/data/tiles/bing_z18/123\n",
      "sdfas 032010102330100301 /Users/xiaojiang/Dropbox (Personal)/xiaojiang/Research/ParkProximity/data/tiles/bing_z18/301\n",
      "sdfas 032010102330100303 /Users/xiaojiang/Dropbox (Personal)/xiaojiang/Research/ParkProximity/data/tiles/bing_z18/303\n",
      "sdfas 032010102330100112 /Users/xiaojiang/Dropbox (Personal)/xiaojiang/Research/ParkProximity/data/tiles/bing_z18/112\n",
      "sdfas 032010102330100130 /Users/xiaojiang/Dropbox (Personal)/xiaojiang/Research/ParkProximity/data/tiles/bing_z18/130\n",
      "sdfas 032010102330100132 /Users/xiaojiang/Dropbox (Personal)/xiaojiang/Research/ParkProximity/data/tiles/bing_z18/132\n",
      "sdfas 032010102330100310 /Users/xiaojiang/Dropbox (Personal)/xiaojiang/Research/ParkProximity/data/tiles/bing_z18/310\n",
      "sdfas 032010102330100312 /Users/xiaojiang/Dropbox (Personal)/xiaojiang/Research/ParkProximity/data/tiles/bing_z18/312\n",
      "sdfas 032010102330100113 /Users/xiaojiang/Dropbox (Personal)/xiaojiang/Research/ParkProximity/data/tiles/bing_z18/113\n",
      "sdfas 032010102330100131 /Users/xiaojiang/Dropbox (Personal)/xiaojiang/Research/ParkProximity/data/tiles/bing_z18/131\n",
      "sdfas 032010102330100133 /Users/xiaojiang/Dropbox (Personal)/xiaojiang/Research/ParkProximity/data/tiles/bing_z18/133\n",
      "sdfas 032010102330100311 /Users/xiaojiang/Dropbox (Personal)/xiaojiang/Research/ParkProximity/data/tiles/bing_z18/311\n",
      "sdfas 032010102330100313 /Users/xiaojiang/Dropbox (Personal)/xiaojiang/Research/ParkProximity/data/tiles/bing_z18/313\n",
      "sdfas 032010102330101002 /Users/xiaojiang/Dropbox (Personal)/xiaojiang/Research/ParkProximity/data/tiles/bing_z18/002\n",
      "sdfas 032010102330101020 /Users/xiaojiang/Dropbox (Personal)/xiaojiang/Research/ParkProximity/data/tiles/bing_z18/020\n",
      "sdfas 032010102330101022 /Users/xiaojiang/Dropbox (Personal)/xiaojiang/Research/ParkProximity/data/tiles/bing_z18/022\n",
      "sdfas 032010102330101200 /Users/xiaojiang/Dropbox (Personal)/xiaojiang/Research/ParkProximity/data/tiles/bing_z18/200\n",
      "sdfas 032010102330101202 /Users/xiaojiang/Dropbox (Personal)/xiaojiang/Research/ParkProximity/data/tiles/bing_z18/202\n",
      "sdfas 032010102330101003 /Users/xiaojiang/Dropbox (Personal)/xiaojiang/Research/ParkProximity/data/tiles/bing_z18/003\n",
      "TThe url is: http://ecn.t0.tiles.virtualearth.net/tiles/a032010102330101003.jpeg?g=9270&key=Av7_Q7LSu3RPKCTqa---_VKPu3QQ-NJsOc0IFU4xmubJl4Pb8RVg-7uei9uydRSU\n",
      "sdfas 032010102330101021 /Users/xiaojiang/Dropbox (Personal)/xiaojiang/Research/ParkProximity/data/tiles/bing_z18/021\n",
      "sdfas 032010102330101023 /Users/xiaojiang/Dropbox (Personal)/xiaojiang/Research/ParkProximity/data/tiles/bing_z18/023\n",
      "sdfas 032010102330101201 /Users/xiaojiang/Dropbox (Personal)/xiaojiang/Research/ParkProximity/data/tiles/bing_z18/201\n",
      "sdfas 032010102330101203 /Users/xiaojiang/Dropbox (Personal)/xiaojiang/Research/ParkProximity/data/tiles/bing_z18/203\n",
      "['40.0407945', '-75.3559896']\n",
      "40.0407945 -75.3559896\n",
      "sdfas 032010102330100103 /Users/xiaojiang/Dropbox (Personal)/xiaojiang/Research/ParkProximity/data/tiles/bing_z18/103\n",
      "sdfas 032010102330100121 /Users/xiaojiang/Dropbox (Personal)/xiaojiang/Research/ParkProximity/data/tiles/bing_z18/121\n",
      "sdfas 032010102330100123 /Users/xiaojiang/Dropbox (Personal)/xiaojiang/Research/ParkProximity/data/tiles/bing_z18/123\n",
      "sdfas 032010102330100301 /Users/xiaojiang/Dropbox (Personal)/xiaojiang/Research/ParkProximity/data/tiles/bing_z18/301\n",
      "sdfas 032010102330100303 /Users/xiaojiang/Dropbox (Personal)/xiaojiang/Research/ParkProximity/data/tiles/bing_z18/303\n",
      "sdfas 032010102330100112 /Users/xiaojiang/Dropbox (Personal)/xiaojiang/Research/ParkProximity/data/tiles/bing_z18/112\n",
      "sdfas 032010102330100130 /Users/xiaojiang/Dropbox (Personal)/xiaojiang/Research/ParkProximity/data/tiles/bing_z18/130\n",
      "sdfas 032010102330100132 /Users/xiaojiang/Dropbox (Personal)/xiaojiang/Research/ParkProximity/data/tiles/bing_z18/132\n",
      "sdfas 032010102330100310 /Users/xiaojiang/Dropbox (Personal)/xiaojiang/Research/ParkProximity/data/tiles/bing_z18/310\n",
      "sdfas 032010102330100312 /Users/xiaojiang/Dropbox (Personal)/xiaojiang/Research/ParkProximity/data/tiles/bing_z18/312\n",
      "sdfas 032010102330100113 /Users/xiaojiang/Dropbox (Personal)/xiaojiang/Research/ParkProximity/data/tiles/bing_z18/113\n",
      "sdfas 032010102330100131 /Users/xiaojiang/Dropbox (Personal)/xiaojiang/Research/ParkProximity/data/tiles/bing_z18/131\n",
      "sdfas 032010102330100133 /Users/xiaojiang/Dropbox (Personal)/xiaojiang/Research/ParkProximity/data/tiles/bing_z18/133\n",
      "sdfas 032010102330100311 /Users/xiaojiang/Dropbox (Personal)/xiaojiang/Research/ParkProximity/data/tiles/bing_z18/311\n",
      "sdfas 032010102330100313 /Users/xiaojiang/Dropbox (Personal)/xiaojiang/Research/ParkProximity/data/tiles/bing_z18/313\n",
      "sdfas 032010102330101002 /Users/xiaojiang/Dropbox (Personal)/xiaojiang/Research/ParkProximity/data/tiles/bing_z18/002\n",
      "sdfas 032010102330101020 /Users/xiaojiang/Dropbox (Personal)/xiaojiang/Research/ParkProximity/data/tiles/bing_z18/020\n",
      "sdfas 032010102330101022 /Users/xiaojiang/Dropbox (Personal)/xiaojiang/Research/ParkProximity/data/tiles/bing_z18/022\n",
      "sdfas 032010102330101200 /Users/xiaojiang/Dropbox (Personal)/xiaojiang/Research/ParkProximity/data/tiles/bing_z18/200\n",
      "sdfas 032010102330101202 /Users/xiaojiang/Dropbox (Personal)/xiaojiang/Research/ParkProximity/data/tiles/bing_z18/202\n",
      "sdfas 032010102330101003 /Users/xiaojiang/Dropbox (Personal)/xiaojiang/Research/ParkProximity/data/tiles/bing_z18/003\n",
      "sdfas 032010102330101021 /Users/xiaojiang/Dropbox (Personal)/xiaojiang/Research/ParkProximity/data/tiles/bing_z18/021\n",
      "sdfas 032010102330101023 /Users/xiaojiang/Dropbox (Personal)/xiaojiang/Research/ParkProximity/data/tiles/bing_z18/023\n",
      "sdfas 032010102330101201 /Users/xiaojiang/Dropbox (Personal)/xiaojiang/Research/ParkProximity/data/tiles/bing_z18/201\n",
      "sdfas 032010102330101203 /Users/xiaojiang/Dropbox (Personal)/xiaojiang/Research/ParkProximity/data/tiles/bing_z18/203\n",
      "['40.0401024', '-75.3560430']\n",
      "40.0401024 -75.3560430\n",
      "sdfas 032010102330100121 /Users/xiaojiang/Dropbox (Personal)/xiaojiang/Research/ParkProximity/data/tiles/bing_z18/121\n",
      "sdfas 032010102330100123 /Users/xiaojiang/Dropbox (Personal)/xiaojiang/Research/ParkProximity/data/tiles/bing_z18/123\n",
      "sdfas 032010102330100301 /Users/xiaojiang/Dropbox (Personal)/xiaojiang/Research/ParkProximity/data/tiles/bing_z18/301\n",
      "sdfas 032010102330100303 /Users/xiaojiang/Dropbox (Personal)/xiaojiang/Research/ParkProximity/data/tiles/bing_z18/303\n",
      "sdfas 032010102330100321 /Users/xiaojiang/Dropbox (Personal)/xiaojiang/Research/ParkProximity/data/tiles/bing_z18/321\n",
      "sdfas 032010102330100130 /Users/xiaojiang/Dropbox (Personal)/xiaojiang/Research/ParkProximity/data/tiles/bing_z18/130\n",
      "sdfas 032010102330100132 /Users/xiaojiang/Dropbox (Personal)/xiaojiang/Research/ParkProximity/data/tiles/bing_z18/132\n",
      "sdfas 032010102330100310 /Users/xiaojiang/Dropbox (Personal)/xiaojiang/Research/ParkProximity/data/tiles/bing_z18/310\n",
      "sdfas 032010102330100312 /Users/xiaojiang/Dropbox (Personal)/xiaojiang/Research/ParkProximity/data/tiles/bing_z18/312\n",
      "sdfas 032010102330100330 /Users/xiaojiang/Dropbox (Personal)/xiaojiang/Research/ParkProximity/data/tiles/bing_z18/330\n",
      "sdfas 032010102330100131 /Users/xiaojiang/Dropbox (Personal)/xiaojiang/Research/ParkProximity/data/tiles/bing_z18/131\n",
      "sdfas 032010102330100133 /Users/xiaojiang/Dropbox (Personal)/xiaojiang/Research/ParkProximity/data/tiles/bing_z18/133\n",
      "sdfas 032010102330100311 /Users/xiaojiang/Dropbox (Personal)/xiaojiang/Research/ParkProximity/data/tiles/bing_z18/311\n",
      "sdfas 032010102330100313 /Users/xiaojiang/Dropbox (Personal)/xiaojiang/Research/ParkProximity/data/tiles/bing_z18/313\n",
      "sdfas 032010102330100331 /Users/xiaojiang/Dropbox (Personal)/xiaojiang/Research/ParkProximity/data/tiles/bing_z18/331\n",
      "sdfas 032010102330101020 /Users/xiaojiang/Dropbox (Personal)/xiaojiang/Research/ParkProximity/data/tiles/bing_z18/020\n",
      "sdfas 032010102330101022 /Users/xiaojiang/Dropbox (Personal)/xiaojiang/Research/ParkProximity/data/tiles/bing_z18/022\n",
      "sdfas 032010102330101200 /Users/xiaojiang/Dropbox (Personal)/xiaojiang/Research/ParkProximity/data/tiles/bing_z18/200\n",
      "sdfas 032010102330101202 /Users/xiaojiang/Dropbox (Personal)/xiaojiang/Research/ParkProximity/data/tiles/bing_z18/202\n",
      "sdfas 032010102330101220 /Users/xiaojiang/Dropbox (Personal)/xiaojiang/Research/ParkProximity/data/tiles/bing_z18/220\n",
      "sdfas 032010102330101021 /Users/xiaojiang/Dropbox (Personal)/xiaojiang/Research/ParkProximity/data/tiles/bing_z18/021\n",
      "sdfas 032010102330101023 /Users/xiaojiang/Dropbox (Personal)/xiaojiang/Research/ParkProximity/data/tiles/bing_z18/023\n",
      "sdfas 032010102330101201 /Users/xiaojiang/Dropbox (Personal)/xiaojiang/Research/ParkProximity/data/tiles/bing_z18/201\n",
      "sdfas 032010102330101203 /Users/xiaojiang/Dropbox (Personal)/xiaojiang/Research/ParkProximity/data/tiles/bing_z18/203\n",
      "sdfas 032010102330101221 /Users/xiaojiang/Dropbox (Personal)/xiaojiang/Research/ParkProximity/data/tiles/bing_z18/221\n"
     ]
    },
    {
     "ename": "NameError",
     "evalue": "name 'dafafa' is not defined",
     "output_type": "error",
     "traceback": [
      "\u001b[0;31m---------------------------------------------------------------------------\u001b[0m",
      "\u001b[0;31mNameError\u001b[0m                                 Traceback (most recent call last)",
      "\u001b[0;32m<ipython-input-51-4d625d8e57f5>\u001b[0m in \u001b[0;36m<module>\u001b[0;34m\u001b[0m\n\u001b[1;32m     51\u001b[0m                             \u001b[0mneededTile\u001b[0m \u001b[0;34m=\u001b[0m \u001b[0;32mTrue\u001b[0m\u001b[0;34m\u001b[0m\u001b[0;34m\u001b[0m\u001b[0m\n\u001b[1;32m     52\u001b[0m \u001b[0;34m\u001b[0m\u001b[0m\n\u001b[0;32m---> 53\u001b[0;31m             \u001b[0mdafafa\u001b[0m\u001b[0;34m\u001b[0m\u001b[0;34m\u001b[0m\u001b[0m\n\u001b[0m\u001b[1;32m     54\u001b[0m             \u001b[0mprint\u001b[0m\u001b[0;34m(\u001b[0m\u001b[0;34m\"\"\u001b[0m\u001b[0;34m)\u001b[0m\u001b[0;34m\u001b[0m\u001b[0;34m\u001b[0m\u001b[0m\n\u001b[1;32m     55\u001b[0m \u001b[0;34m\u001b[0m\u001b[0m\n",
      "\u001b[0;31mNameError\u001b[0m: name 'dafafa' is not defined"
     ]
    }
   ],
   "source": [
    "for classDir in os.listdir(cfg.rootOsmDir) :\n",
    "    classDirFull = os.path.join( cfg.rootOsmDir,classDir)\n",
    "    if not os.path.isdir(classDirFull): continue\n",
    "    for fileName in os.listdir(classDirFull) :\n",
    "        fullPath = os.path.join( cfg.rootOsmDir,classDir,fileName)\n",
    "        print(fullPath)\n",
    "        if not fileName.endswith('.csv'): continue\n",
    "        with open(fullPath, \"rt\") as csvfile:\n",
    "            csveader = csv.reader(csvfile, delimiter='\\t')\n",
    "            print(\"%s \" % (fullPath),end='')\n",
    "            \n",
    "            neededTile = False\n",
    "            for row in csveader:\n",
    "                print(row)\n",
    "                print(row[0], row[1])\n",
    "                tilePixel = quadkey.TileSystem.geo_to_pixel((float(row[0]),float(row[1])), cfg.tileZoom)\n",
    "                \n",
    "                for x in range(-2,3) :\n",
    "                    for y in range(-2,3) :\n",
    "                        pixel = ( tilePixel[0] + 256*x, tilePixel[1]+256*y)\n",
    "                        geo = quadkey.TileSystem.pixel_to_geo(pixel, cfg.tileZoom)\n",
    "                        qk = quadkey.from_geo(geo,cfg.tileZoom)\n",
    "                        \n",
    "                        qkStr = str(qk)\n",
    "                        \n",
    "                        tileCacheDir = os.path.join(bingTilesDir,qkStr[-3:])\n",
    "                        \n",
    "                        print('sdfas', qkStr, tileCacheDir)\n",
    "                        \n",
    "                        if ( os.path.exists(tileCacheDir) == False) :\n",
    "                            os.mkdir( tileCacheDir)\n",
    "                        \n",
    "                        tileFileName = \"%s/%s.jpg\" % (tileCacheDir, qkStr)\n",
    "                        \n",
    "                        if ( os.path.exists(tileFileName) ) :\n",
    "                            # already downloaded\n",
    "                            ok = 1\n",
    "                        else :\n",
    "                            print(\"T\", end='')\n",
    "                            url = tileUrlTemplate.replace(\"{subdomain}\",imageDomains[0])\n",
    "                            url = url.replace(\"{quadkey}\",qkStr)\n",
    "                            url = \"%s&key=%s\" % (url,secrets.bingKey)\n",
    "                            print('The url is:', url)\n",
    "                            \n",
    "                            response = requests.get(url,stream=True)\n",
    "                            \n",
    "                            with open(tileFileName,'wb') as out_file:\n",
    "                                shutil.copyfileobj(response.raw, out_file)\n",
    "\n",
    "                            del response\n",
    "                            neededTile = True\n",
    "                    \n",
    "            dafafa\n",
    "            print(\"\")\n",
    "            \n",
    "            fafda\n",
    "            \n",
    "            if ( neededTile ):\n",
    "                sleep(random()*3)\n",
    "\n"
   ]
  },
  {
   "cell_type": "code",
   "execution_count": 52,
   "metadata": {},
   "outputs": [
    {
     "name": "stdout",
     "output_type": "stream",
     "text": [
      "/Users/xiaojiang/Dropbox (Personal)/xiaojiang/Research/ParkProximity/data/tiles ['bing_z18'] ['.DS_Store']\n",
      "/Users/xiaojiang/Dropbox (Personal)/xiaojiang/Research/ParkProximity/data/tiles/bing_z18 ['300', '132', '103', '331', '330', '102', '133', '301', '023', '220', '221', '022', '203', '202', '120', '312', '313', '121', '131', '303', '302', '130', '020', '021', '003', '200', '201', '002', '112', '320', '311', '123', '122', '310', '321', '113'] ['.DS_Store']\n",
      "/Users/xiaojiang/Dropbox (Personal)/xiaojiang/Research/ParkProximity/data/tiles/bing_z18/300 [] ['032010102330100300.jpg']\n",
      "/Users/xiaojiang/Dropbox (Personal)/xiaojiang/Research/ParkProximity/data/tiles/bing_z18/132 [] ['032010102330100132.jpg']\n",
      "/Users/xiaojiang/Dropbox (Personal)/xiaojiang/Research/ParkProximity/data/tiles/bing_z18/103 [] ['032010102330100103.jpg']\n",
      "/Users/xiaojiang/Dropbox (Personal)/xiaojiang/Research/ParkProximity/data/tiles/bing_z18/331 [] ['032010102330100331.jpg']\n",
      "/Users/xiaojiang/Dropbox (Personal)/xiaojiang/Research/ParkProximity/data/tiles/bing_z18/330 [] ['032010102330100330.jpg']\n",
      "/Users/xiaojiang/Dropbox (Personal)/xiaojiang/Research/ParkProximity/data/tiles/bing_z18/102 [] ['032010102330100102.jpg']\n",
      "/Users/xiaojiang/Dropbox (Personal)/xiaojiang/Research/ParkProximity/data/tiles/bing_z18/133 [] ['032010102330100133.jpg']\n",
      "/Users/xiaojiang/Dropbox (Personal)/xiaojiang/Research/ParkProximity/data/tiles/bing_z18/301 [] ['032010102330100301.jpg']\n",
      "/Users/xiaojiang/Dropbox (Personal)/xiaojiang/Research/ParkProximity/data/tiles/bing_z18/023 [] ['032010102330101023.jpg']\n",
      "/Users/xiaojiang/Dropbox (Personal)/xiaojiang/Research/ParkProximity/data/tiles/bing_z18/220 [] ['032010102330101220.jpg']\n",
      "/Users/xiaojiang/Dropbox (Personal)/xiaojiang/Research/ParkProximity/data/tiles/bing_z18/221 [] ['032010102330101221.jpg']\n",
      "/Users/xiaojiang/Dropbox (Personal)/xiaojiang/Research/ParkProximity/data/tiles/bing_z18/022 [] ['032010102330101022.jpg']\n",
      "/Users/xiaojiang/Dropbox (Personal)/xiaojiang/Research/ParkProximity/data/tiles/bing_z18/203 [] ['032010102330101203.jpg']\n",
      "/Users/xiaojiang/Dropbox (Personal)/xiaojiang/Research/ParkProximity/data/tiles/bing_z18/202 [] ['032010102330101202.jpg']\n",
      "/Users/xiaojiang/Dropbox (Personal)/xiaojiang/Research/ParkProximity/data/tiles/bing_z18/120 [] ['032010102330100120.jpg']\n",
      "/Users/xiaojiang/Dropbox (Personal)/xiaojiang/Research/ParkProximity/data/tiles/bing_z18/312 [] ['032010102330100312.jpg']\n",
      "/Users/xiaojiang/Dropbox (Personal)/xiaojiang/Research/ParkProximity/data/tiles/bing_z18/313 [] ['032010102330100313.jpg']\n",
      "/Users/xiaojiang/Dropbox (Personal)/xiaojiang/Research/ParkProximity/data/tiles/bing_z18/121 [] ['032010102330100121.jpg']\n",
      "/Users/xiaojiang/Dropbox (Personal)/xiaojiang/Research/ParkProximity/data/tiles/bing_z18/131 [] ['032010102330100131.jpg']\n",
      "/Users/xiaojiang/Dropbox (Personal)/xiaojiang/Research/ParkProximity/data/tiles/bing_z18/303 [] ['032010102330100303.jpg']\n",
      "/Users/xiaojiang/Dropbox (Personal)/xiaojiang/Research/ParkProximity/data/tiles/bing_z18/302 [] ['032010102330100302.jpg']\n",
      "/Users/xiaojiang/Dropbox (Personal)/xiaojiang/Research/ParkProximity/data/tiles/bing_z18/130 [] ['032010102330100130.jpg']\n",
      "/Users/xiaojiang/Dropbox (Personal)/xiaojiang/Research/ParkProximity/data/tiles/bing_z18/020 [] ['032010102330101020.jpg']\n",
      "/Users/xiaojiang/Dropbox (Personal)/xiaojiang/Research/ParkProximity/data/tiles/bing_z18/021 [] ['032010102330101021.jpg']\n",
      "/Users/xiaojiang/Dropbox (Personal)/xiaojiang/Research/ParkProximity/data/tiles/bing_z18/003 [] ['032010102330101003.jpg']\n",
      "/Users/xiaojiang/Dropbox (Personal)/xiaojiang/Research/ParkProximity/data/tiles/bing_z18/200 [] ['032010102330101200.jpg']\n",
      "/Users/xiaojiang/Dropbox (Personal)/xiaojiang/Research/ParkProximity/data/tiles/bing_z18/201 [] ['032010102330101201.jpg']\n",
      "/Users/xiaojiang/Dropbox (Personal)/xiaojiang/Research/ParkProximity/data/tiles/bing_z18/002 [] ['032010102330101002.jpg']\n",
      "/Users/xiaojiang/Dropbox (Personal)/xiaojiang/Research/ParkProximity/data/tiles/bing_z18/112 [] ['032010102330100112.jpg']\n",
      "/Users/xiaojiang/Dropbox (Personal)/xiaojiang/Research/ParkProximity/data/tiles/bing_z18/320 [] ['032010102330100320.jpg']\n",
      "/Users/xiaojiang/Dropbox (Personal)/xiaojiang/Research/ParkProximity/data/tiles/bing_z18/311 [] ['032010102330100311.jpg']\n",
      "/Users/xiaojiang/Dropbox (Personal)/xiaojiang/Research/ParkProximity/data/tiles/bing_z18/123 [] ['032010102330100123.jpg']\n",
      "/Users/xiaojiang/Dropbox (Personal)/xiaojiang/Research/ParkProximity/data/tiles/bing_z18/122 [] ['032010102330100122.jpg']\n",
      "/Users/xiaojiang/Dropbox (Personal)/xiaojiang/Research/ParkProximity/data/tiles/bing_z18/310 [] ['032010102330100310.jpg']\n",
      "/Users/xiaojiang/Dropbox (Personal)/xiaojiang/Research/ParkProximity/data/tiles/bing_z18/321 [] ['032010102330100321.jpg']\n",
      "/Users/xiaojiang/Dropbox (Personal)/xiaojiang/Research/ParkProximity/data/tiles/bing_z18/113 [] ['032010102330100113.jpg']\n"
     ]
    }
   ],
   "source": [
    "for root, subFolders, files in os.walk(cfg.rootTileDir):\n",
    "    print(root, subFolders, files)"
   ]
  },
  {
   "cell_type": "code",
   "execution_count": null,
   "metadata": {},
   "outputs": [],
   "source": []
  },
  {
   "cell_type": "code",
   "execution_count": null,
   "metadata": {},
   "outputs": [],
   "source": []
  },
  {
   "cell_type": "code",
   "execution_count": 54,
   "metadata": {},
   "outputs": [
    {
     "data": {
      "text/plain": [
       "'032010102330100113'"
      ]
     },
     "execution_count": 54,
     "metadata": {},
     "output_type": "execute_result"
    }
   ],
   "source": [
    "quadKeyStr = os.path.splitext(files[0])[0]\n",
    "quadKeyStr   "
   ]
  },
  {
   "cell_type": "code",
   "execution_count": 55,
   "metadata": {},
   "outputs": [
    {
     "data": {
      "text/plain": [
       "032010102330100113"
      ]
     },
     "execution_count": 55,
     "metadata": {},
     "output_type": "execute_result"
    }
   ],
   "source": [
    "qkRoot = quadkey.from_str(quadKeyStr)\n",
    "qkRoot"
   ]
  },
  {
   "cell_type": "code",
   "execution_count": 56,
   "metadata": {},
   "outputs": [],
   "source": [
    "tilePixel = quadkey.TileSystem.geo_to_pixel(qkRoot.to_geo(), qkRoot.level)"
   ]
  },
  {
   "cell_type": "code",
   "execution_count": 58,
   "metadata": {},
   "outputs": [
    {
     "data": {
      "text/plain": [
       "19506944"
      ]
     },
     "execution_count": 58,
     "metadata": {},
     "output_type": "execute_result"
    }
   ],
   "source": [
    "tilePixel[0]"
   ]
  },
  {
   "cell_type": "code",
   "execution_count": 59,
   "metadata": {},
   "outputs": [
    {
     "data": {
      "text/plain": [
       "25395456"
      ]
     },
     "execution_count": 59,
     "metadata": {},
     "output_type": "execute_result"
    }
   ],
   "source": [
    "tilePixel[1]"
   ]
  },
  {
   "cell_type": "code",
   "execution_count": null,
   "metadata": {},
   "outputs": [],
   "source": []
  },
  {
   "cell_type": "code",
   "execution_count": null,
   "metadata": {},
   "outputs": [],
   "source": []
  },
  {
   "cell_type": "code",
   "execution_count": null,
   "metadata": {},
   "outputs": [],
   "source": []
  },
  {
   "cell_type": "code",
   "execution_count": 21,
   "metadata": {},
   "outputs": [
    {
     "name": "stdout",
     "output_type": "stream",
     "text": [
      "-2\n",
      "-1\n",
      "0\n",
      "1\n",
      "2\n"
     ]
    }
   ],
   "source": [
    "x = range(-2,3)\n",
    "for x in range(-2, 3):\n",
    "    print(x)"
   ]
  },
  {
   "cell_type": "code",
   "execution_count": 11,
   "metadata": {},
   "outputs": [
    {
     "data": {
      "text/plain": [
       "(39013583, 50791999)"
      ]
     },
     "execution_count": 11,
     "metadata": {},
     "output_type": "execute_result"
    }
   ],
   "source": [
    "pixel"
   ]
  },
  {
   "cell_type": "code",
   "execution_count": 12,
   "metadata": {},
   "outputs": [
    {
     "data": {
      "text/plain": [
       "(39014095, 50792511)"
      ]
     },
     "execution_count": 12,
     "metadata": {},
     "output_type": "execute_result"
    }
   ],
   "source": [
    "tilePixel"
   ]
  },
  {
   "cell_type": "code",
   "execution_count": null,
   "metadata": {},
   "outputs": [],
   "source": []
  },
  {
   "cell_type": "code",
   "execution_count": 15,
   "metadata": {},
   "outputs": [
    {
     "data": {
      "text/plain": [
       "39014095"
      ]
     },
     "execution_count": 15,
     "metadata": {},
     "output_type": "execute_result"
    }
   ],
   "source": [
    "tilePixel[0]"
   ]
  },
  {
   "cell_type": "code",
   "execution_count": 16,
   "metadata": {},
   "outputs": [
    {
     "data": {
      "text/plain": [
       "(39013583, 50791999)"
      ]
     },
     "execution_count": 16,
     "metadata": {},
     "output_type": "execute_result"
    }
   ],
   "source": [
    "pixel"
   ]
  },
  {
   "cell_type": "code",
   "execution_count": 18,
   "metadata": {},
   "outputs": [
    {
     "data": {
      "text/plain": [
       "('40.0401024', '-75.3560430')"
      ]
     },
     "execution_count": 18,
     "metadata": {},
     "output_type": "execute_result"
    }
   ],
   "source": [
    "row[0], row[1]"
   ]
  },
  {
   "cell_type": "code",
   "execution_count": 17,
   "metadata": {},
   "outputs": [
    {
     "data": {
      "text/plain": [
       "(40.041154, -75.357416)"
      ]
     },
     "execution_count": 17,
     "metadata": {},
     "output_type": "execute_result"
    }
   ],
   "source": [
    "geo"
   ]
  },
  {
   "cell_type": "code",
   "execution_count": null,
   "metadata": {},
   "outputs": [],
   "source": []
  }
 ],
 "metadata": {
  "kernelspec": {
   "display_name": "Python 3",
   "language": "python",
   "name": "python3"
  },
  "language_info": {
   "codemirror_mode": {
    "name": "ipython",
    "version": 3
   },
   "file_extension": ".py",
   "mimetype": "text/x-python",
   "name": "python",
   "nbconvert_exporter": "python",
   "pygments_lexer": "ipython3",
   "version": "3.7.6"
  }
 },
 "nbformat": 4,
 "nbformat_minor": 4
}
