{
 "cells": [
  {
   "cell_type": "markdown",
   "metadata": {},
   "source": [
    "## Python basics\n",
    "\n",
    "This tutorial will shows you the basics of Python programing, the major concepts are variables, data types, flow control, list, loops and function. At end of this tutorial, we will plot a sequence of numbers using Matplotlib."
   ]
  },
  {
   "cell_type": "markdown",
   "metadata": {},
   "source": [
    "#### 1. Variables"
   ]
  },
  {
   "cell_type": "code",
   "execution_count": 1,
   "metadata": {},
   "outputs": [
    {
     "name": "stdout",
     "output_type": "stream",
     "text": [
      "The variable x is: 4.0\n",
      "8.0\n",
      "3\n",
      "5\n",
      "x plus two is: 7\n",
      "x minus ten is: -3\n"
     ]
    }
   ],
   "source": [
    "# We can define variables without having to declare their type. We can name it whatever we want.\n",
    "x = 4.0\n",
    "print ('The variable x is:', x)\n",
    "print (x*2) # you can change the value of x as often as you want.\n",
    "x = 3\n",
    "print (x)\n",
    "x = x+2\n",
    "print (x)\n",
    "# the following retrieves the value stored in x, adds 2 to it, and stores the result in x.\n",
    "x+=2\n",
    "print ('x plus two is:', x)\n",
    "x-=10\n",
    "print ('x minus ten is:', x)"
   ]
  },
  {
   "cell_type": "code",
   "execution_count": null,
   "metadata": {},
   "outputs": [],
   "source": []
  },
  {
   "cell_type": "markdown",
   "metadata": {},
   "source": [
    "#### 2. Data type\n",
    "\n",
    "Data type could be Integer, Boolean, String, List, Array, ... The List is one of the most widely used data structure in Python. \n",
    "\n",
    "\n",
    "Booleans are abinary datatypes. they have 2 values: `True` and `False` (or 1 and 0). Booleans are useful when testing for truth value; we can test them in an if or while condition or as an operand of Boolean operations.\n"
   ]
  },
  {
   "cell_type": "code",
   "execution_count": 16,
   "metadata": {},
   "outputs": [
    {
     "name": "stdout",
     "output_type": "stream",
     "text": [
      "The list is: [1, 2, 3, 6, 20]\n"
     ]
    }
   ],
   "source": [
    "i = 10 #Integer\n",
    "\n",
    "b = False # Bloolean, True\n",
    "lst = [1, 2, 3, 6] #list\n",
    "\n",
    "# add new content to the list\n",
    "lst.append(20)\n",
    "print('The list is:', lst)\n"
   ]
  },
  {
   "cell_type": "code",
   "execution_count": null,
   "metadata": {},
   "outputs": [],
   "source": []
  },
  {
   "cell_type": "markdown",
   "metadata": {},
   "source": [
    "We can check the data type by using `type`"
   ]
  },
  {
   "cell_type": "code",
   "execution_count": 49,
   "metadata": {},
   "outputs": [
    {
     "name": "stdout",
     "output_type": "stream",
     "text": [
      "The type of i is: <class 'int'>\n",
      "The type of b is: <class 'bool'>\n",
      "The type of lst is: <class 'list'>\n"
     ]
    }
   ],
   "source": [
    "print('The type of i is:', type(i))\n",
    "print('The type of b is:', type(b))\n",
    "print('The type of lst is:', type(lst))"
   ]
  },
  {
   "cell_type": "code",
   "execution_count": null,
   "metadata": {},
   "outputs": [],
   "source": []
  },
  {
   "cell_type": "markdown",
   "metadata": {},
   "source": [
    "#### 2. Flow Control\n",
    "\n",
    "Python is an imperative programming language. In computer science, imperative programming is a programming paradigm that uses statements that change a program's state. The different states are executed based on a number of rules. We can control the flow of the program through a number of structures. In python there are three main categories of program control flow:"
   ]
  },
  {
   "cell_type": "code",
   "execution_count": 13,
   "metadata": {},
   "outputs": [
    {
     "name": "stdout",
     "output_type": "stream",
     "text": [
      "Flag is True.\n",
      "1\n",
      "B\n"
     ]
    }
   ],
   "source": [
    "flag = True\n",
    "x = 0\n",
    "if flag:\n",
    "    x = 1\n",
    "    print (\"Flag is True.\")\n",
    "else:\n",
    "    x = 2\n",
    "    print (\"Flag is False.\")\n",
    "\n",
    "print (x)\n",
    "# We can check for other cases as well. Controlling the execution of code\n",
    "# like this is referred to as \"flow of control\".\n",
    "if x ==0:\n",
    "    print (\"A\")\n",
    "elif x == 1:\n",
    "    print (\"B\")\n",
    "else:\n",
    "    print (\"C\")\n"
   ]
  },
  {
   "cell_type": "code",
   "execution_count": null,
   "metadata": {},
   "outputs": [],
   "source": []
  },
  {
   "cell_type": "markdown",
   "metadata": {},
   "source": [
    "### 3. List\n",
    "\n",
    "Lists are a data structure designed for easy storage and access to data. they are initialized by using \"[]\" to enclose a comma separated sequence of values. These values can be anything. Lists can contain the same type of values or a heterogeneous mix of values. We can access individual elements of a list, a subset of elements, or the whole list. Lists are mutable: we can modify their elements.\n",
    "\n",
    "Python deals with multiple data structures in a similar manner. For example, lists, dictionaries, files, and iterators work similarly."
   ]
  },
  {
   "cell_type": "code",
   "execution_count": 20,
   "metadata": {},
   "outputs": [],
   "source": [
    "test_list1 = [] # create an emputy list\n",
    "test_list2 = ['1', '2', '5'] # create list with elements"
   ]
  },
  {
   "cell_type": "markdown",
   "metadata": {},
   "source": [
    "Add new element to the list"
   ]
  },
  {
   "cell_type": "code",
   "execution_count": 21,
   "metadata": {},
   "outputs": [
    {
     "name": "stdout",
     "output_type": "stream",
     "text": [
      "['Tom']\n"
     ]
    }
   ],
   "source": [
    "test_list1.append('Tom')\n",
    "print(test_list1)"
   ]
  },
  {
   "cell_type": "code",
   "execution_count": null,
   "metadata": {},
   "outputs": [],
   "source": []
  },
  {
   "cell_type": "markdown",
   "metadata": {},
   "source": [
    "You can add different data types to a list"
   ]
  },
  {
   "cell_type": "code",
   "execution_count": 23,
   "metadata": {},
   "outputs": [
    {
     "data": {
      "text/plain": [
       "['Tom', 10, ['1', '2']]"
      ]
     },
     "execution_count": 23,
     "metadata": {},
     "output_type": "execute_result"
    }
   ],
   "source": [
    "test_list1.append(10) #add number\n",
    "test_list1.append(['1', '2']) # add a list to the list\n",
    "test_list1"
   ]
  },
  {
   "cell_type": "code",
   "execution_count": null,
   "metadata": {},
   "outputs": [],
   "source": []
  },
  {
   "cell_type": "markdown",
   "metadata": {},
   "source": [
    "Concatenate two lists"
   ]
  },
  {
   "cell_type": "code",
   "execution_count": 25,
   "metadata": {},
   "outputs": [
    {
     "name": "stdout",
     "output_type": "stream",
     "text": [
      "['Tom', 10, ['1', '2'], '1', '2', '5']\n"
     ]
    }
   ],
   "source": [
    "comboList = test_list1 + test_list2\n",
    "print(comboList)"
   ]
  },
  {
   "cell_type": "code",
   "execution_count": null,
   "metadata": {},
   "outputs": [],
   "source": []
  },
  {
   "cell_type": "code",
   "execution_count": 36,
   "metadata": {},
   "outputs": [
    {
     "name": "stdout",
     "output_type": "stream",
     "text": [
      "The first item is: Tom\n",
      "The second item is: 10\n",
      "The last item is: 5\n",
      "The last two items are: ['2', '5']\n"
     ]
    }
   ],
   "source": [
    "# get the first item\n",
    "firstItem = comboList[0]\n",
    "secondItem = comboList[1]\n",
    "\n",
    "# # We can access from the ends of lists as well.\n",
    "# get the last item\n",
    "lastItem = comboList[-1]\n",
    "# the last two items\n",
    "lastTwoItem = comboList[-2:]\n",
    "\n",
    "print('The first item is:', firstItem)\n",
    "print ('The second item is:', secondItem)\n",
    "print('The last item is:', lastItem)\n",
    "print('The last two items are:', lastTwoItem)\n"
   ]
  },
  {
   "cell_type": "code",
   "execution_count": 35,
   "metadata": {},
   "outputs": [
    {
     "name": "stdout",
     "output_type": "stream",
     "text": [
      "range(0, 10)\n",
      "range(2, 10)\n",
      "range(4, 10, 2)\n",
      "10\n"
     ]
    }
   ],
   "source": [
    "# There is a useful function for producing sequences of numbers.\n",
    "print (range(10))\n",
    "print (range(2,10))\n",
    "print (range(4,10,2))\n",
    "# The length of a list can be calculated using \"len()\"\n",
    "print (len(range(10)))"
   ]
  },
  {
   "cell_type": "code",
   "execution_count": null,
   "metadata": {},
   "outputs": [],
   "source": []
  },
  {
   "cell_type": "markdown",
   "metadata": {},
   "source": [
    "### Loops\n",
    "\n",
    "Loops allow us to automate repetitive tasks. The repeated execution of a set of statements is called iteration. There are a number of ways to iterate in Python - we can use `for` loops or `while` loops. the syntax is like the syntax of if-statements. the `for` loop loops over each of the elements of a list or iterator, assignming the current element to the variable name given. A `while` loops repeats a sequence of statements until some condition becomes false."
   ]
  },
  {
   "cell_type": "markdown",
   "metadata": {},
   "source": [
    "`for` loop"
   ]
  },
  {
   "cell_type": "code",
   "execution_count": 43,
   "metadata": {},
   "outputs": [
    {
     "name": "stdout",
     "output_type": "stream",
     "text": [
      "range(0, 10)\n",
      "0\n",
      "1\n",
      "2\n",
      "3\n",
      "4\n",
      "5\n",
      "6\n",
      "7\n",
      "8\n",
      "9\n",
      "0\n",
      "2\n",
      "4\n",
      "6\n",
      "8\n",
      "10\n",
      "12\n",
      "14\n",
      "16\n",
      "18\n",
      "range(0, 10)\n"
     ]
    }
   ],
   "source": [
    "X = range(10)\n",
    "print (X)\n",
    "for x in X:\n",
    "    print (x)\n",
    "    \n",
    "for i in range(len(X)):\n",
    "    # doubles the list element\n",
    "    print(X[i]*2)\n",
    "    "
   ]
  },
  {
   "cell_type": "markdown",
   "metadata": {},
   "source": [
    "\n",
    "We can control the execution of a loop through different statements. Python inclues statements to exit a loop prematurely. To exit a loop, use the break statement. The loop below is a for loop."
   ]
  },
  {
   "cell_type": "code",
   "execution_count": 50,
   "metadata": {},
   "outputs": [
    {
     "name": "stdout",
     "output_type": "stream",
     "text": [
      "0\n",
      "1\n",
      "2\n",
      "3\n",
      "4\n",
      "5\n",
      "6\n"
     ]
    }
   ],
   "source": [
    "for i in range(100):\n",
    "    print (i)\n",
    "    if (i > 5):\n",
    "        break\n",
    "    "
   ]
  },
  {
   "cell_type": "code",
   "execution_count": null,
   "metadata": {},
   "outputs": [],
   "source": []
  },
  {
   "cell_type": "markdown",
   "metadata": {},
   "source": [
    "`while` loop"
   ]
  },
  {
   "cell_type": "code",
   "execution_count": 46,
   "metadata": {},
   "outputs": [
    {
     "name": "stdout",
     "output_type": "stream",
     "text": [
      "0\n",
      "1\n",
      "2\n",
      "3\n",
      "4\n"
     ]
    }
   ],
   "source": [
    "i=0\n",
    "while i < 10:\n",
    "    print (i)\n",
    "    i=i+1\n",
    "    if i < 5:\n",
    "        continue\n",
    "    else:\n",
    "        break\n",
    "    "
   ]
  },
  {
   "cell_type": "markdown",
   "metadata": {},
   "source": [
    "### Functions\n",
    "\n",
    "Functions allow a programmer to write reusable code to perform a single action. Functions provide better modulatrity for your application and a high degree of code-reusing. Once a function is defined, it can be called by typing the name of the function and passing the arguments. For example, Python gives you many built-in functions like print(). Functions can just perform an operation, or they can return values.\n",
    "\n",
    "Functions are defined using the key word def."
   ]
  },
  {
   "cell_type": "code",
   "execution_count": 16,
   "metadata": {},
   "outputs": [
    {
     "name": "stdout",
     "output_type": "stream",
     "text": [
      "[-5, 8, 29, 58, 95, 140, 193, 254, 323, 400]\n"
     ]
    }
   ],
   "source": [
    "def y_fun(x):\n",
    "    y = 4*x*x + x - 10\n",
    "    return y\n",
    "\n",
    "x = [1, 2, 3, 4, 5, 6, 7, 8, 9, 10]\n",
    "y_list = []\n",
    "\n",
    "for i in x:\n",
    "    y = y_fun(i)\n",
    "    y_list.append(y)\n",
    "    \n",
    "print(y_list)\n"
   ]
  },
  {
   "cell_type": "code",
   "execution_count": null,
   "metadata": {},
   "outputs": [],
   "source": []
  },
  {
   "cell_type": "markdown",
   "metadata": {},
   "source": [
    "### Python Libraries:\n",
    "Python is a dynamically typed language. A language has dynamic typing when variable types are not predefined like in a compiled language; the type of a value is evaluated when the code is run, based on how you are attempting to use it.\n",
    "\n",
    "Dynamic typing and a number of other language-specific characteristics, like readability and reusability, make Python a very popular programming language with a large user community. However, Python on its own only provides a basic number of modules and functionality. In order to extend Python's functionality, the active community has created a very large number of libraries. A library is a built-in or external module that can be imported into our current code to add functionality. Libraries usually take advantage of Object-Oriented-Programming, defining Python objects in addtional scripts that can then be instantiated in our current code.\n",
    "\n",
    "Loading libraries into our current context can be expensive; for that reason, Python requires us to explicitly load the libraries that we want to use. Type the following code into the first cell, and hit CTRL+Enter to run the code:"
   ]
  },
  {
   "cell_type": "code",
   "execution_count": 62,
   "metadata": {},
   "outputs": [
    {
     "name": "stdout",
     "output_type": "stream",
     "text": [
      "[ 1  2  4 10 14 16]\n"
     ]
    }
   ],
   "source": [
    "import numpy as np\n",
    "\n",
    "a = np.array([1, 2, 4, 10, 14, 16])\n",
    "print(a)"
   ]
  },
  {
   "cell_type": "code",
   "execution_count": null,
   "metadata": {},
   "outputs": [],
   "source": []
  },
  {
   "cell_type": "code",
   "execution_count": 64,
   "metadata": {},
   "outputs": [
    {
     "data": {
      "image/png": "[encoded data removed]",
      "text/plain": [
       "<Figure size 432x288 with 1 Axes>"
      ]
     },
     "metadata": {
      "needs_background": "light"
     },
     "output_type": "display_data"
    }
   ],
   "source": [
    "from matplotlib import pyplot as plt\n",
    "\n",
    "plt.plot(a)\n",
    "plt.show()"
   ]
  },
  {
   "cell_type": "code",
   "execution_count": null,
   "metadata": {},
   "outputs": [],
   "source": []
  },
  {
   "cell_type": "code",
   "execution_count": 65,
   "metadata": {},
   "outputs": [
    {
     "data": {
      "image/png": "[encoded data removed]",
      "text/plain": [
       "<Figure size 432x288 with 1 Axes>"
      ]
     },
     "metadata": {
      "needs_background": "light"
     },
     "output_type": "display_data"
    }
   ],
   "source": [
    "lst = [1, 2, 4, 10, 14, 16]\n",
    "plt.plot(lst)\n",
    "plt.show()\n"
   ]
  },
  {
   "cell_type": "code",
   "execution_count": null,
   "metadata": {},
   "outputs": [],
   "source": []
  },
  {
   "cell_type": "markdown",
   "metadata": {},
   "source": [
    "### Excercise\n",
    "Write a function of y = 4x^2 + x -10\n",
    "\n",
    "plot the diagram of the function, \n",
    "\n",
    "using x ranges from 1 to 10\n",
    "\n"
   ]
  },
  {
   "cell_type": "code",
   "execution_count": 25,
   "metadata": {},
   "outputs": [
    {
     "name": "stdout",
     "output_type": "stream",
     "text": [
      "[-10, -5, 8, 29, 58, 95, 140, 193, 254, 323]\n"
     ]
    },
    {
     "data": {
      "image/png": "[encoded data removed]",
      "text/plain": [
       "<Figure size 432x288 with 1 Axes>"
      ]
     },
     "metadata": {
      "needs_background": "light"
     },
     "output_type": "display_data"
    }
   ],
   "source": [
    "from matplotlib import pyplot as plt\n",
    "\n",
    "def y_fun(x):\n",
    "    y = 4*x*x + x - 10\n",
    "    return y\n",
    "\n",
    "# x = [1, 2, 3, 4, 5, 6, 7, 8, 9, 10]\n",
    "# easier way to create sequence\n",
    "x = np.array(range(10))\n",
    "\n",
    "y_list = []\n",
    "\n",
    "for i in x:\n",
    "    y = y_fun(i)\n",
    "    y_list.append(y)\n",
    "    \n",
    "print(y_list)\n",
    "plt.plot(x, y_list)\n",
    "plt.show()\n"
   ]
  },
  {
   "cell_type": "code",
   "execution_count": null,
   "metadata": {},
   "outputs": [],
   "source": []
  },
  {
   "cell_type": "code",
   "execution_count": 35,
   "metadata": {},
   "outputs": [],
   "source": [
    "import geopandas as gpd\n",
    "\n",
    "accident = gpd.read_file(\"data/crash_data_collision_crash_2007_2017.shp\")\n"
   ]
  },
  {
   "cell_type": "code",
   "execution_count": null,
   "metadata": {},
   "outputs": [],
   "source": []
  },
  {
   "cell_type": "markdown",
   "metadata": {},
   "source": [
    "Print the first five rows of the accident data frame"
   ]
  },
  {
   "cell_type": "code",
   "execution_count": 44,
   "metadata": {},
   "outputs": [
    {
     "data": {
      "text/plain": [
       "Index(['county_nam', 'objectid_1', 'objectid', 'crn', 'district', 'county',\n",
       "       'municipali', 'crash_year', 'crash_mont', 'day_of_wee', 'time_of_da',\n",
       "       'hour_of_da', 'illuminati', 'weather', 'road_condi', 'collision_',\n",
       "       'relation_t', 'work_zone_', 'work_zon_1', 'work_zon_2', 'intersect_',\n",
       "       'tcd_type', 'location_t', 'urban_rura', 'fatal_coun', 'injury_cou',\n",
       "       'person_cou', 'total_unit', 'sch_bus_in', 'sch_zone_i', 'latitude',\n",
       "       'longitude', 'arrival_tm', 'cons_zone_', 'dispatch_t', 'est_hrs_cl',\n",
       "       'lane_close', 'ln_close_d', 'ntfy_hiwy_', 'spec_juris', 'tcd_func_c',\n",
       "       'tfc_detour', 'workers_pr', 'wz_close_d', 'wz_flagger', 'wz_ln_clos',\n",
       "       'wz_moving', 'wz_other', 'wz_shlder_', 'vehicle_co', 'automobile',\n",
       "       'motorcycle', 'bus_count', 'small_truc', 'heavy_truc', 'suv_count',\n",
       "       'van_count', 'bicycle_co', 'maj_inj_co', 'mod_inj_co', 'min_inj_co',\n",
       "       'tot_inj_co', 'unk_inj_de', 'unk_inj_pe', 'driver_cou', 'driver_c_1',\n",
       "       'driver_c_2', 'driver_c_3', 'driver_c_4', 'driver_c_5', 'driver_c_6',\n",
       "       'driver_c_7', 'unbelted_o', 'unb_death_', 'unb_maj_in', 'belted_dea',\n",
       "       'belted_maj', 'mcycle_dea', 'mcycle_maj', 'bicycle_de', 'bicycle_ma',\n",
       "       'ped_count', 'ped_death_', 'ped_maj_in', 'max_severi', 'comm_veh_c',\n",
       "       'dec_lat', 'dec_long', 'rdwy_surf_', 'wz_law_off', 'geometry'],\n",
       "      dtype='object')"
      ]
     },
     "execution_count": 44,
     "metadata": {},
     "output_type": "execute_result"
    }
   ],
   "source": [
    "accident.head()\n"
   ]
  },
  {
   "cell_type": "code",
   "execution_count": null,
   "metadata": {},
   "outputs": [],
   "source": []
  },
  {
   "cell_type": "markdown",
   "metadata": {},
   "source": [
    "print the columns of the dataframe"
   ]
  },
  {
   "cell_type": "code",
   "execution_count": 45,
   "metadata": {},
   "outputs": [
    {
     "data": {
      "text/plain": [
       "Index(['county_nam', 'objectid_1', 'objectid', 'crn', 'district', 'county',\n",
       "       'municipali', 'crash_year', 'crash_mont', 'day_of_wee', 'time_of_da',\n",
       "       'hour_of_da', 'illuminati', 'weather', 'road_condi', 'collision_',\n",
       "       'relation_t', 'work_zone_', 'work_zon_1', 'work_zon_2', 'intersect_',\n",
       "       'tcd_type', 'location_t', 'urban_rura', 'fatal_coun', 'injury_cou',\n",
       "       'person_cou', 'total_unit', 'sch_bus_in', 'sch_zone_i', 'latitude',\n",
       "       'longitude', 'arrival_tm', 'cons_zone_', 'dispatch_t', 'est_hrs_cl',\n",
       "       'lane_close', 'ln_close_d', 'ntfy_hiwy_', 'spec_juris', 'tcd_func_c',\n",
       "       'tfc_detour', 'workers_pr', 'wz_close_d', 'wz_flagger', 'wz_ln_clos',\n",
       "       'wz_moving', 'wz_other', 'wz_shlder_', 'vehicle_co', 'automobile',\n",
       "       'motorcycle', 'bus_count', 'small_truc', 'heavy_truc', 'suv_count',\n",
       "       'van_count', 'bicycle_co', 'maj_inj_co', 'mod_inj_co', 'min_inj_co',\n",
       "       'tot_inj_co', 'unk_inj_de', 'unk_inj_pe', 'driver_cou', 'driver_c_1',\n",
       "       'driver_c_2', 'driver_c_3', 'driver_c_4', 'driver_c_5', 'driver_c_6',\n",
       "       'driver_c_7', 'unbelted_o', 'unb_death_', 'unb_maj_in', 'belted_dea',\n",
       "       'belted_maj', 'mcycle_dea', 'mcycle_maj', 'bicycle_de', 'bicycle_ma',\n",
       "       'ped_count', 'ped_death_', 'ped_maj_in', 'max_severi', 'comm_veh_c',\n",
       "       'dec_lat', 'dec_long', 'rdwy_surf_', 'wz_law_off', 'geometry'],\n",
       "      dtype='object')"
      ]
     },
     "execution_count": 45,
     "metadata": {},
     "output_type": "execute_result"
    }
   ],
   "source": [
    "accident.columns"
   ]
  },
  {
   "cell_type": "code",
   "execution_count": null,
   "metadata": {},
   "outputs": [],
   "source": []
  },
  {
   "cell_type": "code",
   "execution_count": 39,
   "metadata": {},
   "outputs": [],
   "source": [
    "year_carsh = accident.groupby('crash_year').size()\n",
    "month_crash = accident.groupby('crash_mont').size()\n",
    "# week_crash = accident.groupby('week').size()\n",
    "# hour_crash = accident.groupby('hour').size()"
   ]
  },
  {
   "cell_type": "code",
   "execution_count": 40,
   "metadata": {},
   "outputs": [
    {
     "data": {
      "image/png": "[encoded data removed]",
      "text/plain": [
       "<Figure size 432x288 with 1 Axes>"
      ]
     },
     "metadata": {
      "needs_background": "light"
     },
     "output_type": "display_data"
    }
   ],
   "source": [
    "from matplotlib import pyplot as plt\n",
    "\n",
    "plt.plot(year_carsh)\n",
    "plt.title('The traffic accident from 2011 to 2017')\n",
    "plt.show()\n"
   ]
  },
  {
   "cell_type": "code",
   "execution_count": null,
   "metadata": {},
   "outputs": [],
   "source": []
  },
  {
   "cell_type": "code",
   "execution_count": 41,
   "metadata": {},
   "outputs": [
    {
     "data": {
      "image/png": "[encoded data removed]",
      "text/plain": [
       "<Figure size 432x288 with 1 Axes>"
      ]
     },
     "metadata": {
      "needs_background": "light"
     },
     "output_type": "display_data"
    }
   ],
   "source": [
    "plt.plot(month_crash, 'r-')\n",
    "plt.title('The traffic accident in each month')\n",
    "plt.show()\n"
   ]
  },
  {
   "cell_type": "markdown",
   "metadata": {},
   "source": []
  },
  {
   "cell_type": "code",
   "execution_count": null,
   "metadata": {},
   "outputs": [],
   "source": []
  },
  {
   "cell_type": "code",
   "execution_count": null,
   "metadata": {},
   "outputs": [],
   "source": []
  },
  {
   "cell_type": "markdown",
   "metadata": {},
   "source": [
    "## Homework, Due Sep 14, 2019, 11:59pm\n",
    "\n",
    "Write a function of y = 20 - 3.14*x^2 10\n",
    "\n",
    "\n",
    "Using x ranges from 1 to 100\n",
    "\n",
    "plot the diagram of the function, using RED line\n",
    "\n"
   ]
  },
  {
   "cell_type": "code",
   "execution_count": null,
   "metadata": {},
   "outputs": [],
   "source": []
  },
  {
   "cell_type": "code",
   "execution_count": null,
   "metadata": {},
   "outputs": [],
   "source": []
  },
  {
   "cell_type": "code",
   "execution_count": null,
   "metadata": {},
   "outputs": [],
   "source": []
  },
  {
   "cell_type": "markdown",
   "metadata": {},
   "source": [
    "## More readings\n",
    "Pandas tutorial, https://www.learndatasci.com/tutorials/python-pandas-tutorial-complete-introduction-for-beginners/\n",
    "\n",
    "W3C School Python Basics, https://www.w3schools.com/python/"
   ]
  },
  {
   "cell_type": "code",
   "execution_count": null,
   "metadata": {},
   "outputs": [],
   "source": []
  }
 ],
 "metadata": {
  "kernelspec": {
   "display_name": "Python 3",
   "language": "python",
   "name": "python3"
  },
  "language_info": {
   "codemirror_mode": {
    "name": "ipython",
    "version": 3
   },
   "file_extension": ".py",
   "mimetype": "text/x-python",
   "name": "python",
   "nbconvert_exporter": "python",
   "pygments_lexer": "ipython3",
   "version": "3.7.4"
  }
 },
 "nbformat": 4,
 "nbformat_minor": 2
}
