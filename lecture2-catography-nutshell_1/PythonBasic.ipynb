{
 "cells": [
  {
   "cell_type": "markdown",
   "metadata": {},
   "source": [
    "## Python basics\n",
    "\n",
    "This tutorial will shows you the basics of Python programing, the major concepts are variables, data types, flow control, list, loops and function. At end of this tutorial, we will plot a sequence of numbers using Matplotlib."
   ]
  },
  {
   "cell_type": "markdown",
   "metadata": {},
   "source": [
    "#### 1. Variables"
   ]
  },
  {
   "cell_type": "code",
   "execution_count": 1,
   "metadata": {},
   "outputs": [
    {
     "name": "stdout",
     "output_type": "stream",
     "text": [
      "The variable x is: 4.0\n",
      "8.0\n",
      "3\n",
      "5\n",
      "x plus two is: 7\n",
      "x minus ten is: -3\n"
     ]
    }
   ],
   "source": [
    "# We can define variables without having to declare their type. We can name it whatever we want.\n",
    "x = 4.0\n",
    "print ('The variable x is:', x)\n",
    "print (x*2) # you can change the value of x as often as you want.\n",
    "x = 3\n",
    "print (x)\n",
    "x = x+2\n",
    "print (x)\n",
    "# the following retrieves the value stored in x, adds 2 to it, and stores the result in x.\n",
    "x+=2\n",
    "print ('x plus two is:', x)\n",
    "x-=10\n",
    "print ('x minus ten is:', x)"
   ]
  },
  {
   "cell_type": "code",
   "execution_count": null,
   "metadata": {},
   "outputs": [],
   "source": []
  },
  {
   "cell_type": "markdown",
   "metadata": {},
   "source": [
    "#### 2. Data type\n",
    "\n",
    "Data type could be Integer, Boolean, String, List, Array, ... The List is one of the most widely used data structure in Python. \n",
    "\n",
    "\n",
    "Booleans are abinary datatypes. they have 2 values: `True` and `False` (or 1 and 0). Booleans are useful when testing for truth value; we can test them in an if or while condition or as an operand of Boolean operations.\n"
   ]
  },
  {
   "cell_type": "code",
   "execution_count": 16,
   "metadata": {},
   "outputs": [
    {
     "name": "stdout",
     "output_type": "stream",
     "text": [
      "The list is: [1, 2, 3, 6, 20]\n"
     ]
    }
   ],
   "source": [
    "i = 10 #Integer\n",
    "\n",
    "b = False # Bloolean, True\n",
    "lst = [1, 2, 3, 6] #list\n",
    "\n",
    "# add new content to the list\n",
    "lst.append(20)\n",
    "print('The list is:', lst)\n"
   ]
  },
  {
   "cell_type": "code",
   "execution_count": null,
   "metadata": {},
   "outputs": [],
   "source": []
  },
  {
   "cell_type": "markdown",
   "metadata": {},
   "source": [
    "We can check the data type by using `type`"
   ]
  },
  {
   "cell_type": "code",
   "execution_count": 49,
   "metadata": {},
   "outputs": [
    {
     "name": "stdout",
     "output_type": "stream",
     "text": [
      "The type of i is: <class 'int'>\n",
      "The type of b is: <class 'bool'>\n",
      "The type of lst is: <class 'list'>\n"
     ]
    }
   ],
   "source": [
    "print('The type of i is:', type(i))\n",
    "print('The type of b is:', type(b))\n",
    "print('The type of lst is:', type(lst))"
   ]
  },
  {
   "cell_type": "code",
   "execution_count": null,
   "metadata": {},
   "outputs": [],
   "source": []
  },
  {
   "cell_type": "markdown",
   "metadata": {},
   "source": [
    "#### 2. Flow Control\n",
    "\n",
    "Python is an imperative programming language. In computer science, imperative programming is a programming paradigm that uses statements that change a program's state. The different states are executed based on a number of rules. We can control the flow of the program through a number of structures. In python there are three main categories of program control flow:"
   ]
  },
  {
   "cell_type": "code",
   "execution_count": 13,
   "metadata": {},
   "outputs": [
    {
     "name": "stdout",
     "output_type": "stream",
     "text": [
      "Flag is True.\n",
      "1\n",
      "B\n"
     ]
    }
   ],
   "source": [
    "flag = True\n",
    "x = 0\n",
    "if flag:\n",
    "    x = 1\n",
    "    print (\"Flag is True.\")\n",
    "else:\n",
    "    x = 2\n",
    "    print (\"Flag is False.\")\n",
    "\n",
    "print (x)\n",
    "# We can check for other cases as well. Controlling the execution of code\n",
    "# like this is referred to as \"flow of control\".\n",
    "if x ==0:\n",
    "    print (\"A\")\n",
    "elif x == 1:\n",
    "    print (\"B\")\n",
    "else:\n",
    "    print (\"C\")\n"
   ]
  },
  {
   "cell_type": "code",
   "execution_count": null,
   "metadata": {},
   "outputs": [],
   "source": []
  },
  {
   "cell_type": "markdown",
   "metadata": {},
   "source": [
    "### 3. List\n",
    "\n",
    "Lists are a data structure designed for easy storage and access to data. they are initialized by using \"[]\" to enclose a comma separated sequence of values. These values can be anything. Lists can contain the same type of values or a heterogeneous mix of values. We can access individual elements of a list, a subset of elements, or the whole list. Lists are mutable: we can modify their elements.\n",
    "\n",
    "Python deals with multiple data structures in a similar manner. For example, lists, dictionaries, files, and iterators work similarly."
   ]
  },
  {
   "cell_type": "code",
   "execution_count": 20,
   "metadata": {},
   "outputs": [],
   "source": [
    "test_list1 = [] # create an emputy list\n",
    "test_list2 = ['1', '2', '5'] # create list with elements"
   ]
  },
  {
   "cell_type": "markdown",
   "metadata": {},
   "source": [
    "Add new element to the list"
   ]
  },
  {
   "cell_type": "code",
   "execution_count": 21,
   "metadata": {},
   "outputs": [
    {
     "name": "stdout",
     "output_type": "stream",
     "text": [
      "['Tom']\n"
     ]
    }
   ],
   "source": [
    "test_list1.append('Tom')\n",
    "print(test_list1)"
   ]
  },
  {
   "cell_type": "code",
   "execution_count": null,
   "metadata": {},
   "outputs": [],
   "source": []
  },
  {
   "cell_type": "markdown",
   "metadata": {},
   "source": [
    "You can add different data types to a list"
   ]
  },
  {
   "cell_type": "code",
   "execution_count": 23,
   "metadata": {},
   "outputs": [
    {
     "data": {
      "text/plain": [
       "['Tom', 10, ['1', '2']]"
      ]
     },
     "execution_count": 23,
     "metadata": {},
     "output_type": "execute_result"
    }
   ],
   "source": [
    "test_list1.append(10) #add number\n",
    "test_list1.append(['1', '2']) # add a list to the list\n",
    "test_list1"
   ]
  },
  {
   "cell_type": "code",
   "execution_count": null,
   "metadata": {},
   "outputs": [],
   "source": []
  },
  {
   "cell_type": "markdown",
   "metadata": {},
   "source": [
    "Concatenate two lists"
   ]
  },
  {
   "cell_type": "code",
   "execution_count": 25,
   "metadata": {},
   "outputs": [
    {
     "name": "stdout",
     "output_type": "stream",
     "text": [
      "['Tom', 10, ['1', '2'], '1', '2', '5']\n"
     ]
    }
   ],
   "source": [
    "comboList = test_list1 + test_list2\n",
    "print(comboList)"
   ]
  },
  {
   "cell_type": "code",
   "execution_count": null,
   "metadata": {},
   "outputs": [],
   "source": []
  },
  {
   "cell_type": "code",
   "execution_count": 36,
   "metadata": {},
   "outputs": [
    {
     "name": "stdout",
     "output_type": "stream",
     "text": [
      "The first item is: Tom\n",
      "The second item is: 10\n",
      "The last item is: 5\n",
      "The last two items are: ['2', '5']\n"
     ]
    }
   ],
   "source": [
    "# get the first item\n",
    "firstItem = comboList[0]\n",
    "secondItem = comboList[1]\n",
    "\n",
    "# # We can access from the ends of lists as well.\n",
    "# get the last item\n",
    "lastItem = comboList[-1]\n",
    "# the last two items\n",
    "lastTwoItem = comboList[-2:]\n",
    "\n",
    "print('The first item is:', firstItem)\n",
    "print ('The second item is:', secondItem)\n",
    "print('The last item is:', lastItem)\n",
    "print('The last two items are:', lastTwoItem)\n"
   ]
  },
  {
   "cell_type": "code",
   "execution_count": 35,
   "metadata": {},
   "outputs": [
    {
     "name": "stdout",
     "output_type": "stream",
     "text": [
      "range(0, 10)\n",
      "range(2, 10)\n",
      "range(4, 10, 2)\n",
      "10\n"
     ]
    }
   ],
   "source": [
    "# There is a useful function for producing sequences of numbers.\n",
    "print (range(10))\n",
    "print (range(2,10))\n",
    "print (range(4,10,2))\n",
    "# The length of a list can be calculated using \"len()\"\n",
    "print (len(range(10)))"
   ]
  },
  {
   "cell_type": "code",
   "execution_count": null,
   "metadata": {},
   "outputs": [],
   "source": []
  },
  {
   "cell_type": "markdown",
   "metadata": {},
   "source": [
    "### Loops\n",
    "\n",
    "Loops allow us to automate repetitive tasks. The repeated execution of a set of statements is called iteration. There are a number of ways to iterate in Python - we can use `for` loops or `while` loops. the syntax is like the syntax of if-statements. the `for` loop loops over each of the elements of a list or iterator, assignming the current element to the variable name given. A `while` loops repeats a sequence of statements until some condition becomes false."
   ]
  },
  {
   "cell_type": "markdown",
   "metadata": {},
   "source": [
    "`for` loop"
   ]
  },
  {
   "cell_type": "code",
   "execution_count": 43,
   "metadata": {},
   "outputs": [
    {
     "name": "stdout",
     "output_type": "stream",
     "text": [
      "range(0, 10)\n",
      "0\n",
      "1\n",
      "2\n",
      "3\n",
      "4\n",
      "5\n",
      "6\n",
      "7\n",
      "8\n",
      "9\n",
      "0\n",
      "2\n",
      "4\n",
      "6\n",
      "8\n",
      "10\n",
      "12\n",
      "14\n",
      "16\n",
      "18\n",
      "range(0, 10)\n"
     ]
    }
   ],
   "source": [
    "X = range(10)\n",
    "print (X)\n",
    "for x in X:\n",
    "    print (x)\n",
    "    \n",
    "for i in range(len(X)):\n",
    "    # doubles the list element\n",
    "    print(X[i]*2)\n",
    "    "
   ]
  },
  {
   "cell_type": "markdown",
   "metadata": {},
   "source": [
    "\n",
    "We can control the execution of a loop through different statements. Python inclues statements to exit a loop prematurely. To exit a loop, use the break statement. The loop below is a for loop."
   ]
  },
  {
   "cell_type": "code",
   "execution_count": 50,
   "metadata": {},
   "outputs": [
    {
     "name": "stdout",
     "output_type": "stream",
     "text": [
      "0\n",
      "1\n",
      "2\n",
      "3\n",
      "4\n",
      "5\n",
      "6\n"
     ]
    }
   ],
   "source": [
    "for i in range(100):\n",
    "    print (i)\n",
    "    if (i > 5):\n",
    "        break\n",
    "    "
   ]
  },
  {
   "cell_type": "code",
   "execution_count": null,
   "metadata": {},
   "outputs": [],
   "source": []
  },
  {
   "cell_type": "markdown",
   "metadata": {},
   "source": [
    "`while` loop"
   ]
  },
  {
   "cell_type": "code",
   "execution_count": 46,
   "metadata": {},
   "outputs": [
    {
     "name": "stdout",
     "output_type": "stream",
     "text": [
      "0\n",
      "1\n",
      "2\n",
      "3\n",
      "4\n"
     ]
    }
   ],
   "source": [
    "i=0\n",
    "while i < 10:\n",
    "    print (i)\n",
    "    i=i+1\n",
    "    if i < 5:\n",
    "        continue\n",
    "    else:\n",
    "        break\n",
    "    "
   ]
  },
  {
   "cell_type": "markdown",
   "metadata": {},
   "source": [
    "### Functions\n",
    "\n",
    "Functions allow a programmer to write reusable code to perform a single action. Functions provide better modulatrity for your application and a high degree of code-reusing. Once a function is defined, it can be called by typing the name of the function and passing the arguments. For example, Python gives you many built-in functions like print(). Functions can just perform an operation, or they can return values.\n",
    "\n",
    "Functions are defined using the key word def."
   ]
  },
  {
   "cell_type": "code",
   "execution_count": 58,
   "metadata": {},
   "outputs": [
    {
     "name": "stdout",
     "output_type": "stream",
     "text": [
      "4950\n",
      "The sum from 0 to 100 is: 4950\n",
      "The sum from 10 to 50 is: 1235\n"
     ]
    }
   ],
   "source": [
    "# consider this example:\n",
    "# First choose an initial value for x.\n",
    "x = 0\n",
    "for i in range(100):\n",
    "    x+=i\n",
    "print (x)\n",
    "\n",
    "# what if we do this for a new initial value for x?\n",
    "# what if we use a different number instead of 100?\n",
    "# we don't want to rewrite this for loop every time\n",
    "# let's define a function.\n",
    "def ForSum(x,y):\n",
    "    for i in range(y):\n",
    "        x+=i\n",
    "    # \"return\" indicates what values to output\n",
    "    return x\n",
    "\n",
    "# same calculation as our previous for loop\n",
    "print ('The sum from 0 to 100 is:', ForSum(0,100))\n",
    "# now using different values\n",
    "print ('The sum from 10 to 50 is:', ForSum(10,50))\n"
   ]
  },
  {
   "cell_type": "code",
   "execution_count": null,
   "metadata": {},
   "outputs": [],
   "source": []
  },
  {
   "cell_type": "markdown",
   "metadata": {},
   "source": [
    "### Python Libraries:\n",
    "Python is a dynamically typed language. A language has dynamic typing when variable types are not predefined like in a compiled language; the type of a value is evaluated when the code is run, based on how you are attempting to use it.\n",
    "\n",
    "Dynamic typing and a number of other language-specific characteristics, like readability and reusability, make Python a very popular programming language with a large user community. However, Python on its own only provides a basic number of modules and functionality. In order to extend Python's functionality, the active community has created a very large number of libraries. A library is a built-in or external module that can be imported into our current code to add functionality. Libraries usually take advantage of Object-Oriented-Programming, defining Python objects in addtional scripts that can then be instantiated in our current code.\n",
    "\n",
    "Loading libraries into our current context can be expensive; for that reason, Python requires us to explicitly load the libraries that we want to use. Type the following code into the first cell, and hit CTRL+Enter to run the code:"
   ]
  },
  {
   "cell_type": "code",
   "execution_count": 62,
   "metadata": {},
   "outputs": [
    {
     "name": "stdout",
     "output_type": "stream",
     "text": [
      "[ 1  2  4 10 14 16]\n"
     ]
    }
   ],
   "source": [
    "import numpy as np\n",
    "\n",
    "a = np.array([1, 2, 4, 10, 14, 16])\n",
    "print(a)"
   ]
  },
  {
   "cell_type": "code",
   "execution_count": null,
   "metadata": {},
   "outputs": [],
   "source": []
  },
  {
   "cell_type": "code",
   "execution_count": 64,
   "metadata": {},
   "outputs": [
    {
     "data": {
      "image/png": "[encoded data removed]",
      "text/plain": [
       "<Figure size 432x288 with 1 Axes>"
      ]
     },
     "metadata": {
      "needs_background": "light"
     },
     "output_type": "display_data"
    }
   ],
   "source": [
    "from matplotlib import pyplot as plt\n",
    "\n",
    "plt.plot(a)\n",
    "plt.show()"
   ]
  },
  {
   "cell_type": "code",
   "execution_count": null,
   "metadata": {},
   "outputs": [],
   "source": []
  },
  {
   "cell_type": "code",
   "execution_count": 65,
   "metadata": {},
   "outputs": [
    {
     "data": {
      "image/png": "[encoded data removed]",
      "text/plain": [
       "<Figure size 432x288 with 1 Axes>"
      ]
     },
     "metadata": {
      "needs_background": "light"
     },
     "output_type": "display_data"
    }
   ],
   "source": [
    "lst = [1, 2, 4, 10, 14, 16]\n",
    "plt.plot(lst)\n",
    "plt.show()\n"
   ]
  },
  {
   "cell_type": "code",
   "execution_count": null,
   "metadata": {},
   "outputs": [],
   "source": []
  },
  {
   "cell_type": "code",
   "execution_count": 3,
   "metadata": {},
   "outputs": [],
   "source": [
    "import pandas as pd\n",
    "import geopandas as gpd\n",
    "\n",
    "countries_gdf = gpd.read_file(\"../data/crash_data_collision_crash_2007_2017/crash_data_collision_crash_2007_2017.shp\")\n",
    "countries_gdf.to_csv(\"../data/crash_data_collision_crash_2007_2017/crash_data_collision_crash_2007_2017.csv\")\n"
   ]
  },
  {
   "cell_type": "code",
   "execution_count": null,
   "metadata": {},
   "outputs": [],
   "source": []
  },
  {
   "cell_type": "markdown",
   "metadata": {},
   "source": [
    "Read csv file using pandas"
   ]
  },
  {
   "cell_type": "code",
   "execution_count": 4,
   "metadata": {},
   "outputs": [
    {
     "name": "stderr",
     "output_type": "stream",
     "text": [
      "/Users/senseablecity/anaconda3/lib/python3.7/site-packages/IPython/core/interactiveshell.py:3020: DtypeWarning: Columns (1) have mixed types. Specify dtype option on import or set low_memory=False.\n",
      "  interactivity=interactivity, compiler=compiler, result=result)\n"
     ]
    },
    {
     "data": {
      "text/html": [
       "<div>\n",
       "<style scoped>\n",
       "    .dataframe tbody tr th:only-of-type {\n",
       "        vertical-align: middle;\n",
       "    }\n",
       "\n",
       "    .dataframe tbody tr th {\n",
       "        vertical-align: top;\n",
       "    }\n",
       "\n",
       "    .dataframe thead th {\n",
       "        text-align: right;\n",
       "    }\n",
       "</style>\n",
       "<table border=\"1\" class=\"dataframe\">\n",
       "  <thead>\n",
       "    <tr style=\"text-align: right;\">\n",
       "      <th></th>\n",
       "      <th>Unnamed: 0</th>\n",
       "      <th>county_nam</th>\n",
       "      <th>objectid_1</th>\n",
       "      <th>objectid</th>\n",
       "      <th>crn</th>\n",
       "      <th>district</th>\n",
       "      <th>county</th>\n",
       "      <th>municipali</th>\n",
       "      <th>crash_year</th>\n",
       "      <th>crash_mont</th>\n",
       "      <th>...</th>\n",
       "      <th>ped_count</th>\n",
       "      <th>ped_death_</th>\n",
       "      <th>ped_maj_in</th>\n",
       "      <th>max_severi</th>\n",
       "      <th>comm_veh_c</th>\n",
       "      <th>dec_lat</th>\n",
       "      <th>dec_long</th>\n",
       "      <th>rdwy_surf_</th>\n",
       "      <th>wz_law_off</th>\n",
       "      <th>geometry</th>\n",
       "    </tr>\n",
       "  </thead>\n",
       "  <tbody>\n",
       "    <tr>\n",
       "      <th>0</th>\n",
       "      <td>0</td>\n",
       "      <td>NaN</td>\n",
       "      <td>9498</td>\n",
       "      <td>128198</td>\n",
       "      <td>2016019772</td>\n",
       "      <td>6</td>\n",
       "      <td>67</td>\n",
       "      <td>67301</td>\n",
       "      <td>2016</td>\n",
       "      <td>2</td>\n",
       "      <td>...</td>\n",
       "      <td>1</td>\n",
       "      <td>0</td>\n",
       "      <td>0</td>\n",
       "      <td>3</td>\n",
       "      <td>0</td>\n",
       "      <td>40.0628</td>\n",
       "      <td>-75.0577</td>\n",
       "      <td>NaN</td>\n",
       "      <td>NaN</td>\n",
       "      <td>POINT (-75.05769999995437 40.06280000042057)</td>\n",
       "    </tr>\n",
       "    <tr>\n",
       "      <th>1</th>\n",
       "      <td>1</td>\n",
       "      <td>NaN</td>\n",
       "      <td>9570</td>\n",
       "      <td>128432</td>\n",
       "      <td>2016013724</td>\n",
       "      <td>6</td>\n",
       "      <td>67</td>\n",
       "      <td>67301</td>\n",
       "      <td>2016</td>\n",
       "      <td>1</td>\n",
       "      <td>...</td>\n",
       "      <td>0</td>\n",
       "      <td>0</td>\n",
       "      <td>0</td>\n",
       "      <td>3</td>\n",
       "      <td>0</td>\n",
       "      <td>40.0822</td>\n",
       "      <td>-74.9669</td>\n",
       "      <td>NaN</td>\n",
       "      <td>NaN</td>\n",
       "      <td>POINT (-74.96689999993436 40.08220000023073)</td>\n",
       "    </tr>\n",
       "    <tr>\n",
       "      <th>2</th>\n",
       "      <td>2</td>\n",
       "      <td>NaN</td>\n",
       "      <td>9642</td>\n",
       "      <td>128688</td>\n",
       "      <td>2016038282</td>\n",
       "      <td>6</td>\n",
       "      <td>67</td>\n",
       "      <td>67301</td>\n",
       "      <td>2016</td>\n",
       "      <td>3</td>\n",
       "      <td>...</td>\n",
       "      <td>0</td>\n",
       "      <td>0</td>\n",
       "      <td>0</td>\n",
       "      <td>0</td>\n",
       "      <td>1</td>\n",
       "      <td>39.9751</td>\n",
       "      <td>-75.1946</td>\n",
       "      <td>NaN</td>\n",
       "      <td>NaN</td>\n",
       "      <td>POINT (-75.19459999988942 39.97510000036561)</td>\n",
       "    </tr>\n",
       "    <tr>\n",
       "      <th>3</th>\n",
       "      <td>3</td>\n",
       "      <td>NaN</td>\n",
       "      <td>9714</td>\n",
       "      <td>128842</td>\n",
       "      <td>2016052220</td>\n",
       "      <td>6</td>\n",
       "      <td>67</td>\n",
       "      <td>67301</td>\n",
       "      <td>2016</td>\n",
       "      <td>2</td>\n",
       "      <td>...</td>\n",
       "      <td>0</td>\n",
       "      <td>0</td>\n",
       "      <td>0</td>\n",
       "      <td>8</td>\n",
       "      <td>0</td>\n",
       "      <td>40.0357</td>\n",
       "      <td>-75.2171</td>\n",
       "      <td>NaN</td>\n",
       "      <td>NaN</td>\n",
       "      <td>POINT (-75.21709999966458 40.03569999985604)</td>\n",
       "    </tr>\n",
       "    <tr>\n",
       "      <th>4</th>\n",
       "      <td>4</td>\n",
       "      <td>NaN</td>\n",
       "      <td>9786</td>\n",
       "      <td>128975</td>\n",
       "      <td>2016087187</td>\n",
       "      <td>6</td>\n",
       "      <td>67</td>\n",
       "      <td>67301</td>\n",
       "      <td>2016</td>\n",
       "      <td>8</td>\n",
       "      <td>...</td>\n",
       "      <td>1</td>\n",
       "      <td>0</td>\n",
       "      <td>0</td>\n",
       "      <td>4</td>\n",
       "      <td>0</td>\n",
       "      <td>39.9511</td>\n",
       "      <td>-75.1721</td>\n",
       "      <td>NaN</td>\n",
       "      <td>NaN</td>\n",
       "      <td>POINT (-75.17210000011426 39.95109999976609)</td>\n",
       "    </tr>\n",
       "  </tbody>\n",
       "</table>\n",
       "<p>5 rows × 92 columns</p>\n",
       "</div>"
      ],
      "text/plain": [
       "   Unnamed: 0 county_nam  objectid_1  objectid         crn  district  county  \\\n",
       "0           0        NaN        9498    128198  2016019772         6      67   \n",
       "1           1        NaN        9570    128432  2016013724         6      67   \n",
       "2           2        NaN        9642    128688  2016038282         6      67   \n",
       "3           3        NaN        9714    128842  2016052220         6      67   \n",
       "4           4        NaN        9786    128975  2016087187         6      67   \n",
       "\n",
       "   municipali  crash_year  crash_mont  \\\n",
       "0       67301        2016           2   \n",
       "1       67301        2016           1   \n",
       "2       67301        2016           3   \n",
       "3       67301        2016           2   \n",
       "4       67301        2016           8   \n",
       "\n",
       "                       ...                       ped_count  ped_death_  \\\n",
       "0                      ...                               1           0   \n",
       "1                      ...                               0           0   \n",
       "2                      ...                               0           0   \n",
       "3                      ...                               0           0   \n",
       "4                      ...                               1           0   \n",
       "\n",
       "   ped_maj_in  max_severi  comm_veh_c  dec_lat  dec_long  rdwy_surf_  \\\n",
       "0           0           3           0  40.0628  -75.0577         NaN   \n",
       "1           0           3           0  40.0822  -74.9669         NaN   \n",
       "2           0           0           1  39.9751  -75.1946         NaN   \n",
       "3           0           8           0  40.0357  -75.2171         NaN   \n",
       "4           0           4           0  39.9511  -75.1721         NaN   \n",
       "\n",
       "   wz_law_off                                      geometry  \n",
       "0         NaN  POINT (-75.05769999995437 40.06280000042057)  \n",
       "1         NaN  POINT (-74.96689999993436 40.08220000023073)  \n",
       "2         NaN  POINT (-75.19459999988942 39.97510000036561)  \n",
       "3         NaN  POINT (-75.21709999966458 40.03569999985604)  \n",
       "4         NaN  POINT (-75.17210000011426 39.95109999976609)  \n",
       "\n",
       "[5 rows x 92 columns]"
      ]
     },
     "execution_count": 4,
     "metadata": {},
     "output_type": "execute_result"
    }
   ],
   "source": [
    "import pandas as pd\n",
    "\n",
    "# We are reading a CSV with some Census data\n",
    "accident = pd.read_csv(\"../data/crash_data_collision_crash_2007_2017/crash_data_collision_crash_2007_2017.csv\")\n",
    "\n",
    "accident.head()\n"
   ]
  },
  {
   "cell_type": "code",
   "execution_count": 5,
   "metadata": {},
   "outputs": [
    {
     "data": {
      "text/plain": [
       "Unnamed: 0      int64\n",
       "county_nam     object\n",
       "objectid_1      int64\n",
       "objectid        int64\n",
       "crn             int64\n",
       "district        int64\n",
       "county          int64\n",
       "municipali      int64\n",
       "crash_year      int64\n",
       "crash_mont      int64\n",
       "day_of_wee      int64\n",
       "time_of_da      int64\n",
       "hour_of_da      int64\n",
       "illuminati      int64\n",
       "weather         int64\n",
       "road_condi      int64\n",
       "collision_      int64\n",
       "relation_t      int64\n",
       "work_zone_    float64\n",
       "work_zon_1    float64\n",
       "work_zon_2     object\n",
       "intersect_      int64\n",
       "tcd_type        int64\n",
       "location_t      int64\n",
       "urban_rura      int64\n",
       "fatal_coun      int64\n",
       "injury_cou      int64\n",
       "person_cou      int64\n",
       "total_unit      int64\n",
       "sch_bus_in     object\n",
       "               ...   \n",
       "tot_inj_co      int64\n",
       "unk_inj_de      int64\n",
       "unk_inj_pe      int64\n",
       "driver_cou      int64\n",
       "driver_c_1      int64\n",
       "driver_c_2      int64\n",
       "driver_c_3      int64\n",
       "driver_c_4      int64\n",
       "driver_c_5      int64\n",
       "driver_c_6      int64\n",
       "driver_c_7      int64\n",
       "unbelted_o      int64\n",
       "unb_death_      int64\n",
       "unb_maj_in      int64\n",
       "belted_dea      int64\n",
       "belted_maj      int64\n",
       "mcycle_dea      int64\n",
       "mcycle_maj      int64\n",
       "bicycle_de      int64\n",
       "bicycle_ma      int64\n",
       "ped_count       int64\n",
       "ped_death_      int64\n",
       "ped_maj_in      int64\n",
       "max_severi      int64\n",
       "comm_veh_c      int64\n",
       "dec_lat       float64\n",
       "dec_long      float64\n",
       "rdwy_surf_    float64\n",
       "wz_law_off     object\n",
       "geometry       object\n",
       "Length: 92, dtype: object"
      ]
     },
     "execution_count": 5,
     "metadata": {},
     "output_type": "execute_result"
    }
   ],
   "source": [
    "accident.dtypes"
   ]
  },
  {
   "cell_type": "code",
   "execution_count": null,
   "metadata": {},
   "outputs": [],
   "source": []
  },
  {
   "cell_type": "code",
   "execution_count": 6,
   "metadata": {},
   "outputs": [
    {
     "data": {
      "text/plain": [
       "Index(['Unnamed: 0', 'county_nam', 'objectid_1', 'objectid', 'crn', 'district',\n",
       "       'county', 'municipali', 'crash_year', 'crash_mont', 'day_of_wee',\n",
       "       'time_of_da', 'hour_of_da', 'illuminati', 'weather', 'road_condi',\n",
       "       'collision_', 'relation_t', 'work_zone_', 'work_zon_1', 'work_zon_2',\n",
       "       'intersect_', 'tcd_type', 'location_t', 'urban_rura', 'fatal_coun',\n",
       "       'injury_cou', 'person_cou', 'total_unit', 'sch_bus_in', 'sch_zone_i',\n",
       "       'latitude', 'longitude', 'arrival_tm', 'cons_zone_', 'dispatch_t',\n",
       "       'est_hrs_cl', 'lane_close', 'ln_close_d', 'ntfy_hiwy_', 'spec_juris',\n",
       "       'tcd_func_c', 'tfc_detour', 'workers_pr', 'wz_close_d', 'wz_flagger',\n",
       "       'wz_ln_clos', 'wz_moving', 'wz_other', 'wz_shlder_', 'vehicle_co',\n",
       "       'automobile', 'motorcycle', 'bus_count', 'small_truc', 'heavy_truc',\n",
       "       'suv_count', 'van_count', 'bicycle_co', 'maj_inj_co', 'mod_inj_co',\n",
       "       'min_inj_co', 'tot_inj_co', 'unk_inj_de', 'unk_inj_pe', 'driver_cou',\n",
       "       'driver_c_1', 'driver_c_2', 'driver_c_3', 'driver_c_4', 'driver_c_5',\n",
       "       'driver_c_6', 'driver_c_7', 'unbelted_o', 'unb_death_', 'unb_maj_in',\n",
       "       'belted_dea', 'belted_maj', 'mcycle_dea', 'mcycle_maj', 'bicycle_de',\n",
       "       'bicycle_ma', 'ped_count', 'ped_death_', 'ped_maj_in', 'max_severi',\n",
       "       'comm_veh_c', 'dec_lat', 'dec_long', 'rdwy_surf_', 'wz_law_off',\n",
       "       'geometry'],\n",
       "      dtype='object')"
      ]
     },
     "execution_count": 6,
     "metadata": {},
     "output_type": "execute_result"
    }
   ],
   "source": [
    "accident.columns\n"
   ]
  },
  {
   "cell_type": "code",
   "execution_count": null,
   "metadata": {},
   "outputs": [],
   "source": []
  },
  {
   "cell_type": "code",
   "execution_count": 7,
   "metadata": {},
   "outputs": [],
   "source": [
    "year_carsh = accident.groupby('crash_year').size()\n",
    "month_crash = accident.groupby('crash_mont').size()\n",
    "# week_crash = accident.groupby('week').size()\n",
    "# hour_crash = accident.groupby('hour').size()"
   ]
  },
  {
   "cell_type": "code",
   "execution_count": 10,
   "metadata": {},
   "outputs": [
    {
     "data": {
      "image/png": "[encoded data removed]",
      "text/plain": [
       "<Figure size 432x288 with 1 Axes>"
      ]
     },
     "metadata": {
      "needs_background": "light"
     },
     "output_type": "display_data"
    }
   ],
   "source": [
    "from matplotlib import pyplot as plt\n",
    "\n",
    "plt.plot(year_carsh)\n",
    "plt.title('The traffic accident from 2011 to 2017')\n",
    "plt.show()\n"
   ]
  },
  {
   "cell_type": "code",
   "execution_count": null,
   "metadata": {},
   "outputs": [],
   "source": []
  },
  {
   "cell_type": "code",
   "execution_count": 1,
   "metadata": {},
   "outputs": [
    {
     "ename": "NameError",
     "evalue": "name 'plt' is not defined",
     "output_type": "error",
     "traceback": [
      "\u001b[0;31m---------------------------------------------------------------------------\u001b[0m",
      "\u001b[0;31mNameError\u001b[0m                                 Traceback (most recent call last)",
      "\u001b[0;32m<ipython-input-1-6359908879e6>\u001b[0m in \u001b[0;36m<module>\u001b[0;34m\u001b[0m\n\u001b[0;32m----> 1\u001b[0;31m \u001b[0mplt\u001b[0m\u001b[0;34m.\u001b[0m\u001b[0mplot\u001b[0m\u001b[0;34m(\u001b[0m\u001b[0mmonth_crash\u001b[0m\u001b[0;34m,\u001b[0m \u001b[0;34m'r-'\u001b[0m\u001b[0;34m)\u001b[0m\u001b[0;34m\u001b[0m\u001b[0;34m\u001b[0m\u001b[0m\n\u001b[0m\u001b[1;32m      2\u001b[0m \u001b[0mplt\u001b[0m\u001b[0;34m.\u001b[0m\u001b[0mtitle\u001b[0m\u001b[0;34m(\u001b[0m\u001b[0;34m'The traffic accident in each month'\u001b[0m\u001b[0;34m)\u001b[0m\u001b[0;34m\u001b[0m\u001b[0;34m\u001b[0m\u001b[0m\n\u001b[1;32m      3\u001b[0m \u001b[0mplt\u001b[0m\u001b[0;34m.\u001b[0m\u001b[0mshow\u001b[0m\u001b[0;34m(\u001b[0m\u001b[0;34m)\u001b[0m\u001b[0;34m\u001b[0m\u001b[0;34m\u001b[0m\u001b[0m\n",
      "\u001b[0;31mNameError\u001b[0m: name 'plt' is not defined"
     ]
    }
   ],
   "source": [
    "plt.plot(month_crash, 'r-')\n",
    "plt.title('The traffic accident in each month')\n",
    "plt.show()\n"
   ]
  },
  {
   "cell_type": "code",
   "execution_count": null,
   "metadata": {},
   "outputs": [],
   "source": []
  },
  {
   "cell_type": "code",
   "execution_count": null,
   "metadata": {},
   "outputs": [],
   "source": []
  },
  {
   "cell_type": "code",
   "execution_count": null,
   "metadata": {},
   "outputs": [],
   "source": []
  },
  {
   "cell_type": "code",
   "execution_count": null,
   "metadata": {},
   "outputs": [],
   "source": []
  },
  {
   "cell_type": "markdown",
   "metadata": {},
   "source": [
    "\n",
    "\n",
    "\n",
    "## Additional Reading and Resources\n",
    "\n",
    "### Conda Command Line Cheatsheet -\n",
    "http://conda.pydata.org/docs/_downloads/conda-cheatsheet.pdf\n",
    "\n",
    "### Mac Command Line Cheatsheet –\n",
    "https://github.com/0nn0/terminal-mac-cheatsheet/wiki/Terminal-Cheatsheet-for-Mac-(-basics-)\n",
    "\n",
    "### Python Documentation -\n",
    "https://docs.python.org/3/library/index.html"
   ]
  },
  {
   "cell_type": "code",
   "execution_count": null,
   "metadata": {},
   "outputs": [],
   "source": []
  }
 ],
 "metadata": {
  "kernelspec": {
   "display_name": "Python 3",
   "language": "python",
   "name": "python3"
  },
  "language_info": {
   "codemirror_mode": {
    "name": "ipython",
    "version": 3
   },
   "file_extension": ".py",
   "mimetype": "text/x-python",
   "name": "python",
   "nbconvert_exporter": "python",
   "pygments_lexer": "ipython3",
   "version": "3.7.4"
  }
 },
 "nbformat": 4,
 "nbformat_minor": 2
}
