{
 "cells": [
  {
   "attachments": {},
   "cell_type": "markdown",
   "metadata": {},
   "source": [
    "## Jupyter notebook tutorial\n",
    "When you first start the notebook server, your browser will open to the notebook dashboard. The dashboard serves as a home page for the notebook. Its main purpose is to display the notebooks and files in the current directory. So, if you would like to work in a specific directory, you need to go to the directory first and then open the jupyter notebook by type in, \n",
    "\n",
    "```jupyter notebook```\n",
    "\n",
    "To create a new notebook, click on the “New” button at the top of the list and select a kernel from the dropdown (as seen below). Which kernels are listed depend on what’s installed on the server. Some of the kernels in the screenshot below may not exist as an option to you.\n",
    "\n",
    "### The command mode shortcuts\n",
    "(1) go to the next line, press `enter` button\n",
    "run the current cell and move the next cell, press `shift + enter`\n",
    "\n",
    "(2) save the notebook, press `s`\n",
    "\n",
    "(3) change cell type, `y`, `m`, You can switch between edit mode and command mode by press `y` or `m` button\n",
    "\n",
    "(4) create cell above `a` and below `b`\n",
    "\n",
    "(5) cell editing, cut cell press `x`, copy cell press `c`, paste cell press `v`, delete cell press `dd`, cancel previous step press `zz`\n",
    "\n",
    "(6) Kernel operation, Restart the jupyter server by pressing `0` twice; Interrupt the running cell by pressing `i` twice.\n",
    "\n",
    "#### Reference\n",
    "1. Jupyter notebook for beginners, https://realpython.com/jupyter-notebook-introduction/\n",
    "2. Notebook Basics, https://jupyter-notebook.readthedocs.io/en/stable/examples/Notebook/Notebook%20Basics.html\n"
   ]
  },
  {
   "cell_type": "markdown",
   "metadata": {},
   "source": []
  },
  {
   "cell_type": "code",
   "execution_count": null,
   "metadata": {},
   "outputs": [],
   "source": []
  }
 ],
 "metadata": {
  "kernelspec": {
   "display_name": "Python 3",
   "language": "python",
   "name": "python3"
  },
  "language_info": {
   "codemirror_mode": {
    "name": "ipython",
    "version": 3
   },
   "file_extension": ".py",
   "mimetype": "text/x-python",
   "name": "python",
   "nbconvert_exporter": "python",
   "pygments_lexer": "ipython3",
   "version": "3.7.4"
  }
 },
 "nbformat": 4,
 "nbformat_minor": 2
}
